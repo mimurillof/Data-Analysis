{
  "cells": [
    {
      "cell_type": "markdown",
      "metadata": {
        "id": "_yV3_RLbe13T"
      },
      "source": [
        "# Ejercicio 1_ Predicción de series temporales univariantes"
      ]
    },
    {
      "cell_type": "markdown",
      "metadata": {
        "id": "yVwn7dHge13U"
      },
      "source": [
        "# Parte I"
      ]
    },
    {
      "cell_type": "code",
      "execution_count": 1,
      "metadata": {
        "id": "QiackC3ie13U",
        "outputId": "50de43b7-f903-4788-df5c-3dea9b77805e"
      },
      "outputs": [],
      "source": [
        "#Importar librerías necesarias\n",
        "\n",
        "import numpy as np\n",
        "import matplotlib.pyplot as plt\n",
        "import pandas as pd\n",
        "import numpy as np\n",
        "from datetime import datetime\n",
        "import statsmodels.api as sm\n",
        "import numpy as np\n",
        "import xgboost as xgb\n",
        "from sklearn.metrics import mean_squared_error, mean_absolute_error\n",
        "import imageio\n",
        "import os\n",
        "from statsmodels.graphics.tsaplots import plot_acf\n",
        "import plotly.express as px\n",
        "from pycaret.regression import *\n",
        "import plotly.express as px"
      ]
    },
    {
      "cell_type": "markdown",
      "metadata": {
        "id": "emZ7fayNe13W"
      },
      "source": [
        "## Importación de datos"
      ]
    },
    {
      "cell_type": "code",
      "execution_count": 2,
      "metadata": {
        "id": "d7STBrL9e13W"
      },
      "outputs": [],
      "source": [
        "\n",
        "import pandas as pd\n",
        "\n",
        "url = 'https://drive.google.com/file/d/1g3UG_SWLEqn4rMuYCpTHqPlF0vnIDRDB/view?usp=sharing'\n",
        "path = 'https://drive.google.com/uc?export=download&id='+url.split('/')[-2]\n",
        "df2 = pd.read_csv(path)"
      ]
    },
    {
      "cell_type": "code",
      "execution_count": 3,
      "metadata": {
        "id": "kAJDAJZ4e13W",
        "outputId": "ca822dd9-6719-4645-eb2c-ee9b68a98770"
      },
      "outputs": [
        {
          "data": {
            "text/html": [
              "<div>\n",
              "<style scoped>\n",
              "    .dataframe tbody tr th:only-of-type {\n",
              "        vertical-align: middle;\n",
              "    }\n",
              "\n",
              "    .dataframe tbody tr th {\n",
              "        vertical-align: top;\n",
              "    }\n",
              "\n",
              "    .dataframe thead th {\n",
              "        text-align: right;\n",
              "    }\n",
              "</style>\n",
              "<table border=\"1\" class=\"dataframe\">\n",
              "  <thead>\n",
              "    <tr style=\"text-align: right;\">\n",
              "      <th></th>\n",
              "      <th>invoice_and_item_number</th>\n",
              "      <th>date</th>\n",
              "      <th>store_number</th>\n",
              "      <th>store_name</th>\n",
              "      <th>address</th>\n",
              "      <th>city</th>\n",
              "      <th>zip_code</th>\n",
              "      <th>store_location</th>\n",
              "      <th>county_number</th>\n",
              "      <th>county</th>\n",
              "      <th>...</th>\n",
              "      <th>item_number</th>\n",
              "      <th>item_description</th>\n",
              "      <th>pack</th>\n",
              "      <th>bottle_volume_ml</th>\n",
              "      <th>state_bottle_cost</th>\n",
              "      <th>state_bottle_retail</th>\n",
              "      <th>bottles_sold</th>\n",
              "      <th>sale_dollars</th>\n",
              "      <th>volume_sold_liters</th>\n",
              "      <th>volume_sold_gallons</th>\n",
              "    </tr>\n",
              "  </thead>\n",
              "  <tbody>\n",
              "    <tr>\n",
              "      <th>0</th>\n",
              "      <td>INV-19309700006</td>\n",
              "      <td>2019-05-13</td>\n",
              "      <td>2633</td>\n",
              "      <td>Hy-Vee #3 / BDI / Des Moines</td>\n",
              "      <td>3221 SE 14th St</td>\n",
              "      <td>Des Moines</td>\n",
              "      <td>50320</td>\n",
              "      <td>POINT (-93.596754 41.554101)</td>\n",
              "      <td>77</td>\n",
              "      <td>POLK</td>\n",
              "      <td>...</td>\n",
              "      <td>5486</td>\n",
              "      <td>Macallan 12 Yr Single Malt Scotch</td>\n",
              "      <td>12</td>\n",
              "      <td>750</td>\n",
              "      <td>34.99</td>\n",
              "      <td>52.49</td>\n",
              "      <td>84</td>\n",
              "      <td>4409.16</td>\n",
              "      <td>63.0</td>\n",
              "      <td>16.64</td>\n",
              "    </tr>\n",
              "    <tr>\n",
              "      <th>1</th>\n",
              "      <td>INV-15347200002</td>\n",
              "      <td>2018-10-29</td>\n",
              "      <td>2633</td>\n",
              "      <td>Hy-Vee #3 / BDI / Des Moines</td>\n",
              "      <td>3221 SE 14th St</td>\n",
              "      <td>Des Moines</td>\n",
              "      <td>50320</td>\n",
              "      <td>POINT (-93.596754 41.554101)</td>\n",
              "      <td>77</td>\n",
              "      <td>POLK</td>\n",
              "      <td>...</td>\n",
              "      <td>27145</td>\n",
              "      <td>WhistlePig Old World 12YR</td>\n",
              "      <td>6</td>\n",
              "      <td>750</td>\n",
              "      <td>64.17</td>\n",
              "      <td>96.26</td>\n",
              "      <td>30</td>\n",
              "      <td>2887.80</td>\n",
              "      <td>22.5</td>\n",
              "      <td>5.94</td>\n",
              "    </tr>\n",
              "    <tr>\n",
              "      <th>2</th>\n",
              "      <td>INV-11117400006</td>\n",
              "      <td>2018-03-26</td>\n",
              "      <td>2633</td>\n",
              "      <td>Hy-Vee #3 / BDI / Des Moines</td>\n",
              "      <td>3221 SE 14th St</td>\n",
              "      <td>Des Moines</td>\n",
              "      <td>50320</td>\n",
              "      <td>POINT (-93.596754 41.554101)</td>\n",
              "      <td>77</td>\n",
              "      <td>POLK</td>\n",
              "      <td>...</td>\n",
              "      <td>904955</td>\n",
              "      <td>1921 Tequila Reposado</td>\n",
              "      <td>6</td>\n",
              "      <td>750</td>\n",
              "      <td>26.50</td>\n",
              "      <td>39.75</td>\n",
              "      <td>12</td>\n",
              "      <td>477.00</td>\n",
              "      <td>9.0</td>\n",
              "      <td>2.38</td>\n",
              "    </tr>\n",
              "    <tr>\n",
              "      <th>3</th>\n",
              "      <td>INV-10206700012</td>\n",
              "      <td>2018-02-05</td>\n",
              "      <td>2633</td>\n",
              "      <td>Hy-Vee #3 / BDI / Des Moines</td>\n",
              "      <td>3221 SE 14th St</td>\n",
              "      <td>Des Moines</td>\n",
              "      <td>50320</td>\n",
              "      <td>POINT (-93.596754 41.554101)</td>\n",
              "      <td>77</td>\n",
              "      <td>POLK</td>\n",
              "      <td>...</td>\n",
              "      <td>5486</td>\n",
              "      <td>Macallan 12 Yr Single Malt Scotch</td>\n",
              "      <td>12</td>\n",
              "      <td>750</td>\n",
              "      <td>34.99</td>\n",
              "      <td>52.49</td>\n",
              "      <td>12</td>\n",
              "      <td>566.88</td>\n",
              "      <td>9.0</td>\n",
              "      <td>2.38</td>\n",
              "    </tr>\n",
              "    <tr>\n",
              "      <th>4</th>\n",
              "      <td>INV-11743500040</td>\n",
              "      <td>2018-04-26</td>\n",
              "      <td>2633</td>\n",
              "      <td>Hy-Vee #3 / BDI / Des Moines</td>\n",
              "      <td>3221 SE 14th St</td>\n",
              "      <td>Des Moines</td>\n",
              "      <td>50320</td>\n",
              "      <td>POINT (-93.596754 41.554101)</td>\n",
              "      <td>77</td>\n",
              "      <td>POLK</td>\n",
              "      <td>...</td>\n",
              "      <td>27027</td>\n",
              "      <td>Cody Road Rye</td>\n",
              "      <td>6</td>\n",
              "      <td>750</td>\n",
              "      <td>19.17</td>\n",
              "      <td>28.76</td>\n",
              "      <td>6</td>\n",
              "      <td>172.56</td>\n",
              "      <td>4.5</td>\n",
              "      <td>1.19</td>\n",
              "    </tr>\n",
              "  </tbody>\n",
              "</table>\n",
              "<p>5 rows × 24 columns</p>\n",
              "</div>"
            ],
            "text/plain": [
              "  invoice_and_item_number        date  store_number  \\\n",
              "0         INV-19309700006  2019-05-13          2633   \n",
              "1         INV-15347200002  2018-10-29          2633   \n",
              "2         INV-11117400006  2018-03-26          2633   \n",
              "3         INV-10206700012  2018-02-05          2633   \n",
              "4         INV-11743500040  2018-04-26          2633   \n",
              "\n",
              "                     store_name          address        city  zip_code  \\\n",
              "0  Hy-Vee #3 / BDI / Des Moines  3221 SE 14th St  Des Moines     50320   \n",
              "1  Hy-Vee #3 / BDI / Des Moines  3221 SE 14th St  Des Moines     50320   \n",
              "2  Hy-Vee #3 / BDI / Des Moines  3221 SE 14th St  Des Moines     50320   \n",
              "3  Hy-Vee #3 / BDI / Des Moines  3221 SE 14th St  Des Moines     50320   \n",
              "4  Hy-Vee #3 / BDI / Des Moines  3221 SE 14th St  Des Moines     50320   \n",
              "\n",
              "                 store_location  county_number county  ...  item_number  \\\n",
              "0  POINT (-93.596754 41.554101)             77   POLK  ...         5486   \n",
              "1  POINT (-93.596754 41.554101)             77   POLK  ...        27145   \n",
              "2  POINT (-93.596754 41.554101)             77   POLK  ...       904955   \n",
              "3  POINT (-93.596754 41.554101)             77   POLK  ...         5486   \n",
              "4  POINT (-93.596754 41.554101)             77   POLK  ...        27027   \n",
              "\n",
              "                    item_description  pack bottle_volume_ml  \\\n",
              "0  Macallan 12 Yr Single Malt Scotch    12              750   \n",
              "1          WhistlePig Old World 12YR     6              750   \n",
              "2              1921 Tequila Reposado     6              750   \n",
              "3  Macallan 12 Yr Single Malt Scotch    12              750   \n",
              "4                      Cody Road Rye     6              750   \n",
              "\n",
              "   state_bottle_cost state_bottle_retail  bottles_sold  sale_dollars  \\\n",
              "0              34.99               52.49            84       4409.16   \n",
              "1              64.17               96.26            30       2887.80   \n",
              "2              26.50               39.75            12        477.00   \n",
              "3              34.99               52.49            12        566.88   \n",
              "4              19.17               28.76             6        172.56   \n",
              "\n",
              "   volume_sold_liters  volume_sold_gallons  \n",
              "0                63.0                16.64  \n",
              "1                22.5                 5.94  \n",
              "2                 9.0                 2.38  \n",
              "3                 9.0                 2.38  \n",
              "4                 4.5                 1.19  \n",
              "\n",
              "[5 rows x 24 columns]"
            ]
          },
          "execution_count": 3,
          "metadata": {},
          "output_type": "execute_result"
        }
      ],
      "source": [
        "df2.head(5)"
      ]
    },
    {
      "cell_type": "code",
      "execution_count": 4,
      "metadata": {
        "id": "u9aXPgZGe13W"
      },
      "outputs": [],
      "source": [
        "## Selecciona las variables que utilizarás para el modelo (de date y sale_dollars)\n",
        "df2['date']=pd.to_datetime(df2['date'])\n",
        "df2_ds= df2.loc[:, ['date', 'sale_dollars']]"
      ]
    },
    {
      "cell_type": "code",
      "execution_count": 5,
      "metadata": {
        "id": "6Sb-vCupe13W",
        "outputId": "d814d9f2-d8df-477d-d4c6-e1bc4db4593b"
      },
      "outputs": [
        {
          "data": {
            "text/html": [
              "<div>\n",
              "<style scoped>\n",
              "    .dataframe tbody tr th:only-of-type {\n",
              "        vertical-align: middle;\n",
              "    }\n",
              "\n",
              "    .dataframe tbody tr th {\n",
              "        vertical-align: top;\n",
              "    }\n",
              "\n",
              "    .dataframe thead th {\n",
              "        text-align: right;\n",
              "    }\n",
              "</style>\n",
              "<table border=\"1\" class=\"dataframe\">\n",
              "  <thead>\n",
              "    <tr style=\"text-align: right;\">\n",
              "      <th></th>\n",
              "      <th>date</th>\n",
              "      <th>sale_dollars</th>\n",
              "    </tr>\n",
              "  </thead>\n",
              "  <tbody>\n",
              "    <tr>\n",
              "      <th>50522</th>\n",
              "      <td>2019-12-09</td>\n",
              "      <td>1379.88</td>\n",
              "    </tr>\n",
              "    <tr>\n",
              "      <th>50523</th>\n",
              "      <td>2019-11-25</td>\n",
              "      <td>148.50</td>\n",
              "    </tr>\n",
              "    <tr>\n",
              "      <th>50524</th>\n",
              "      <td>2019-10-24</td>\n",
              "      <td>119.28</td>\n",
              "    </tr>\n",
              "    <tr>\n",
              "      <th>50525</th>\n",
              "      <td>2019-10-17</td>\n",
              "      <td>119.28</td>\n",
              "    </tr>\n",
              "    <tr>\n",
              "      <th>50526</th>\n",
              "      <td>2019-10-21</td>\n",
              "      <td>279.00</td>\n",
              "    </tr>\n",
              "  </tbody>\n",
              "</table>\n",
              "</div>"
            ],
            "text/plain": [
              "            date  sale_dollars\n",
              "50522 2019-12-09       1379.88\n",
              "50523 2019-11-25        148.50\n",
              "50524 2019-10-24        119.28\n",
              "50525 2019-10-17        119.28\n",
              "50526 2019-10-21        279.00"
            ]
          },
          "execution_count": 5,
          "metadata": {},
          "output_type": "execute_result"
        }
      ],
      "source": [
        "## Ordena los datos, de manera que puedas entrenar el modelo\n",
        "df2_ds.tail(5)\n"
      ]
    },
    {
      "cell_type": "markdown",
      "metadata": {
        "id": "WqZTFiVPe13W"
      },
      "source": [
        "## Preprocesamiento de datos"
      ]
    },
    {
      "cell_type": "code",
      "execution_count": 6,
      "metadata": {
        "id": "mAyYeOv6e13W",
        "outputId": "84c44735-5120-4d5d-b94d-4eaa21b9e3e4"
      },
      "outputs": [
        {
          "name": "stdout",
          "output_type": "stream",
          "text": [
            "0\n",
            "406\n"
          ]
        }
      ],
      "source": [
        "## Agrega los datos, de manera que tengas la suma de sale:dollars por día -> groupby\n",
        "aggregated = df2_ds.groupby('date')['sale_dollars'].sum().reset_index()\n",
        "print(min(aggregated.index))\n",
        "print(max(aggregated.index))\n",
        "aggregated['MA12'] = aggregated['sale_dollars'].rolling(12).mean()\n",
        "\n"
      ]
    },
    {
      "cell_type": "code",
      "execution_count": 7,
      "metadata": {
        "id": "pih8KfxLe13W"
      },
      "outputs": [],
      "source": [
        "# La variable aggregated debe ser definida en el paso anterior, sí cambias el nombre de la variable, debes cambiarlo acá\n",
        "aggregated.set_index('date', inplace=True)\n",
        "aggregated.index=pd.to_datetime(aggregated.index)"
      ]
    },
    {
      "cell_type": "code",
      "execution_count": 8,
      "metadata": {},
      "outputs": [],
      "source": [
        "def create_features(df):\n",
        "    \"\"\"\n",
        "    Creates time series features from datetime \n",
        "index\n",
        "    \"\"\"\n",
        "    df['date'] = df.index\n",
        "    df['quarter'] = df['date'].dt.quarter\n",
        "    df['flag'] = pd.Series(np.where(df['date'] >= np.datetime64('2020-03-03'), 1, 0), index=df.index) #flag for COVID-19\n",
        "\n",
        "    ## Genera nuevas variables en base a la fecha, para que las utilice el modelo a la hora de predecir\n",
        "    df['dayofweek'] = df['date'].dt.dayofweek\n",
        "    df['month'] = df['date'].dt.month\n",
        "    df['year'] = df['date'].dt.year\n",
        "    df['dayofyear'] = df['date'].dt.dayofyear\n",
        "    df['dayofmonth'] = df['date'].dt.day\n",
        "    df['weekofyear'] = df['date'].dt.isocalendar().week\n",
        "    df['flag'] = pd.Series(np.where(df['date'] >= np.datetime64('2020-03-03'), 1, 0), index=df.index) #flag for COVID-19\n",
        "    df['is_weekend'] = df['date'].dt.dayofweek.isin([5, 6]).astype(int)\n",
        "\n",
        "    X = df[['dayofweek','quarter','month','year',\n",
        "           'dayofyear','dayofmonth','weekofyear','flag','sale_dollars', 'is_weekend']]\n",
        "    X.index=df.index\n",
        "    return X"
      ]
    },
    {
      "cell_type": "code",
      "execution_count": 9,
      "metadata": {
        "id": "Mh27PRlYe13W",
        "outputId": "2cf77d3e-c665-4464-a7a0-51ce1837e79c"
      },
      "outputs": [
        {
          "data": {
            "text/html": [
              "<div>\n",
              "<style scoped>\n",
              "    .dataframe tbody tr th:only-of-type {\n",
              "        vertical-align: middle;\n",
              "    }\n",
              "\n",
              "    .dataframe tbody tr th {\n",
              "        vertical-align: top;\n",
              "    }\n",
              "\n",
              "    .dataframe thead th {\n",
              "        text-align: right;\n",
              "    }\n",
              "</style>\n",
              "<table border=\"1\" class=\"dataframe\">\n",
              "  <thead>\n",
              "    <tr style=\"text-align: right;\">\n",
              "      <th></th>\n",
              "      <th>dayofweek</th>\n",
              "      <th>quarter</th>\n",
              "      <th>month</th>\n",
              "      <th>year</th>\n",
              "      <th>dayofyear</th>\n",
              "      <th>dayofmonth</th>\n",
              "      <th>weekofyear</th>\n",
              "      <th>flag</th>\n",
              "      <th>sale_dollars</th>\n",
              "      <th>is_weekend</th>\n",
              "    </tr>\n",
              "    <tr>\n",
              "      <th>date</th>\n",
              "      <th></th>\n",
              "      <th></th>\n",
              "      <th></th>\n",
              "      <th></th>\n",
              "      <th></th>\n",
              "      <th></th>\n",
              "      <th></th>\n",
              "      <th></th>\n",
              "      <th></th>\n",
              "      <th></th>\n",
              "    </tr>\n",
              "  </thead>\n",
              "  <tbody>\n",
              "    <tr>\n",
              "      <th>2018-01-03</th>\n",
              "      <td>2</td>\n",
              "      <td>1</td>\n",
              "      <td>1</td>\n",
              "      <td>2018</td>\n",
              "      <td>3</td>\n",
              "      <td>3</td>\n",
              "      <td>1</td>\n",
              "      <td>0</td>\n",
              "      <td>10639.43</td>\n",
              "      <td>0</td>\n",
              "    </tr>\n",
              "    <tr>\n",
              "      <th>2018-01-04</th>\n",
              "      <td>3</td>\n",
              "      <td>1</td>\n",
              "      <td>1</td>\n",
              "      <td>2018</td>\n",
              "      <td>4</td>\n",
              "      <td>4</td>\n",
              "      <td>1</td>\n",
              "      <td>0</td>\n",
              "      <td>105307.95</td>\n",
              "      <td>0</td>\n",
              "    </tr>\n",
              "    <tr>\n",
              "      <th>2018-01-05</th>\n",
              "      <td>4</td>\n",
              "      <td>1</td>\n",
              "      <td>1</td>\n",
              "      <td>2018</td>\n",
              "      <td>5</td>\n",
              "      <td>5</td>\n",
              "      <td>1</td>\n",
              "      <td>0</td>\n",
              "      <td>10526.40</td>\n",
              "      <td>0</td>\n",
              "    </tr>\n",
              "    <tr>\n",
              "      <th>2018-01-08</th>\n",
              "      <td>0</td>\n",
              "      <td>1</td>\n",
              "      <td>1</td>\n",
              "      <td>2018</td>\n",
              "      <td>8</td>\n",
              "      <td>8</td>\n",
              "      <td>2</td>\n",
              "      <td>0</td>\n",
              "      <td>65236.68</td>\n",
              "      <td>0</td>\n",
              "    </tr>\n",
              "    <tr>\n",
              "      <th>2018-01-11</th>\n",
              "      <td>3</td>\n",
              "      <td>1</td>\n",
              "      <td>1</td>\n",
              "      <td>2018</td>\n",
              "      <td>11</td>\n",
              "      <td>11</td>\n",
              "      <td>2</td>\n",
              "      <td>0</td>\n",
              "      <td>55396.46</td>\n",
              "      <td>0</td>\n",
              "    </tr>\n",
              "  </tbody>\n",
              "</table>\n",
              "</div>"
            ],
            "text/plain": [
              "            dayofweek  quarter  month  year  dayofyear  dayofmonth  \\\n",
              "date                                                                 \n",
              "2018-01-03          2        1      1  2018          3           3   \n",
              "2018-01-04          3        1      1  2018          4           4   \n",
              "2018-01-05          4        1      1  2018          5           5   \n",
              "2018-01-08          0        1      1  2018          8           8   \n",
              "2018-01-11          3        1      1  2018         11          11   \n",
              "\n",
              "            weekofyear  flag  sale_dollars  is_weekend  \n",
              "date                                                    \n",
              "2018-01-03           1     0      10639.43           0  \n",
              "2018-01-04           1     0     105307.95           0  \n",
              "2018-01-05           1     0      10526.40           0  \n",
              "2018-01-08           2     0      65236.68           0  \n",
              "2018-01-11           2     0      55396.46           0  "
            ]
          },
          "execution_count": 9,
          "metadata": {},
          "output_type": "execute_result"
        }
      ],
      "source": [
        "## Aplica la funcion de preprocesamiento a los datos (create_features)\n",
        "data = create_features(aggregated)\n",
        "data.head(5)"
      ]
    },
    {
      "cell_type": "code",
      "execution_count": 10,
      "metadata": {
        "id": "IGarbhpne13X",
        "outputId": "4ed049fc-28c9-4b92-eef1-37f758f4332d"
      },
      "outputs": [
        {
          "data": {
            "text/plain": [
              "((384, 10), (23, 10))"
            ]
          },
          "execution_count": 10,
          "metadata": {},
          "output_type": "execute_result"
        }
      ],
      "source": [
        "# Divide el conjunto de datos en train y test (train < '2020-06-15')\n",
        "train = data[data.index < '2020-06-15']\n",
        "test = data[data.index >= '2020-06-15']\n",
        "\n",
        "\n",
        "# Check shape\n",
        "train.shape, test.shape\n"
      ]
    },
    {
      "cell_type": "code",
      "execution_count": 11,
      "metadata": {
        "id": "H7jvNT0Ve13X",
        "outputId": "150f90ba-a436-4a98-cb39-d520b5845fd3"
      },
      "outputs": [
        {
          "data": {
            "image/png": "[encoded data removed]",
            "text/plain": [
              "<Figure size 2000x1000 with 1 Axes>"
            ]
          },
          "metadata": {},
          "output_type": "display_data"
        }
      ],
      "source": [
        "#plot train and test \n",
        "plt.figure(figsize=(20, 10))\n",
        "plt.plot(train['sale_dollars'], label='Train')\n",
        "plt.plot(test['sale_dollars'], label='Test')\n",
        "plt.title('Train and Test')\n",
        "plt.legend()\n",
        "plt.show()\n"
      ]
    },
    {
      "cell_type": "code",
      "execution_count": 12,
      "metadata": {
        "id": "x3qroq19e13X",
        "outputId": "aa7dc304-f7ef-4c4c-df17-380838455c69"
      },
      "outputs": [
        {
          "data": {
            "text/html": [
              "<div>\n",
              "<style scoped>\n",
              "    .dataframe tbody tr th:only-of-type {\n",
              "        vertical-align: middle;\n",
              "    }\n",
              "\n",
              "    .dataframe tbody tr th {\n",
              "        vertical-align: top;\n",
              "    }\n",
              "\n",
              "    .dataframe thead th {\n",
              "        text-align: right;\n",
              "    }\n",
              "</style>\n",
              "<table border=\"1\" class=\"dataframe\">\n",
              "  <thead>\n",
              "    <tr style=\"text-align: right;\">\n",
              "      <th></th>\n",
              "      <th>dayofweek</th>\n",
              "      <th>quarter</th>\n",
              "      <th>month</th>\n",
              "      <th>year</th>\n",
              "      <th>dayofyear</th>\n",
              "      <th>dayofmonth</th>\n",
              "      <th>weekofyear</th>\n",
              "      <th>flag</th>\n",
              "      <th>sale_dollars</th>\n",
              "      <th>is_weekend</th>\n",
              "    </tr>\n",
              "    <tr>\n",
              "      <th>date</th>\n",
              "      <th></th>\n",
              "      <th></th>\n",
              "      <th></th>\n",
              "      <th></th>\n",
              "      <th></th>\n",
              "      <th></th>\n",
              "      <th></th>\n",
              "      <th></th>\n",
              "      <th></th>\n",
              "      <th></th>\n",
              "    </tr>\n",
              "  </thead>\n",
              "  <tbody>\n",
              "    <tr>\n",
              "      <th>2018-01-03</th>\n",
              "      <td>2</td>\n",
              "      <td>1</td>\n",
              "      <td>1</td>\n",
              "      <td>2018</td>\n",
              "      <td>3</td>\n",
              "      <td>3</td>\n",
              "      <td>1</td>\n",
              "      <td>0</td>\n",
              "      <td>10639.43</td>\n",
              "      <td>0</td>\n",
              "    </tr>\n",
              "    <tr>\n",
              "      <th>2018-01-04</th>\n",
              "      <td>3</td>\n",
              "      <td>1</td>\n",
              "      <td>1</td>\n",
              "      <td>2018</td>\n",
              "      <td>4</td>\n",
              "      <td>4</td>\n",
              "      <td>1</td>\n",
              "      <td>0</td>\n",
              "      <td>105307.95</td>\n",
              "      <td>0</td>\n",
              "    </tr>\n",
              "    <tr>\n",
              "      <th>2018-01-05</th>\n",
              "      <td>4</td>\n",
              "      <td>1</td>\n",
              "      <td>1</td>\n",
              "      <td>2018</td>\n",
              "      <td>5</td>\n",
              "      <td>5</td>\n",
              "      <td>1</td>\n",
              "      <td>0</td>\n",
              "      <td>10526.40</td>\n",
              "      <td>0</td>\n",
              "    </tr>\n",
              "    <tr>\n",
              "      <th>2018-01-08</th>\n",
              "      <td>0</td>\n",
              "      <td>1</td>\n",
              "      <td>1</td>\n",
              "      <td>2018</td>\n",
              "      <td>8</td>\n",
              "      <td>8</td>\n",
              "      <td>2</td>\n",
              "      <td>0</td>\n",
              "      <td>65236.68</td>\n",
              "      <td>0</td>\n",
              "    </tr>\n",
              "    <tr>\n",
              "      <th>2018-01-11</th>\n",
              "      <td>3</td>\n",
              "      <td>1</td>\n",
              "      <td>1</td>\n",
              "      <td>2018</td>\n",
              "      <td>11</td>\n",
              "      <td>11</td>\n",
              "      <td>2</td>\n",
              "      <td>0</td>\n",
              "      <td>55396.46</td>\n",
              "      <td>0</td>\n",
              "    </tr>\n",
              "  </tbody>\n",
              "</table>\n",
              "</div>"
            ],
            "text/plain": [
              "            dayofweek  quarter  month  year  dayofyear  dayofmonth  \\\n",
              "date                                                                 \n",
              "2018-01-03          2        1      1  2018          3           3   \n",
              "2018-01-04          3        1      1  2018          4           4   \n",
              "2018-01-05          4        1      1  2018          5           5   \n",
              "2018-01-08          0        1      1  2018          8           8   \n",
              "2018-01-11          3        1      1  2018         11          11   \n",
              "\n",
              "            weekofyear  flag  sale_dollars  is_weekend  \n",
              "date                                                    \n",
              "2018-01-03           1     0      10639.43           0  \n",
              "2018-01-04           1     0     105307.95           0  \n",
              "2018-01-05           1     0      10526.40           0  \n",
              "2018-01-08           2     0      65236.68           0  \n",
              "2018-01-11           2     0      55396.46           0  "
            ]
          },
          "execution_count": 12,
          "metadata": {},
          "output_type": "execute_result"
        }
      ],
      "source": [
        "train.head()"
      ]
    },
    {
      "cell_type": "markdown",
      "metadata": {
        "id": "AyW9FO8Ue13X"
      },
      "source": [
        "# Parte II"
      ]
    },
    {
      "cell_type": "markdown",
      "metadata": {
        "id": "ArDLz1ehe13X"
      },
      "source": [
        "## Entrenamiento del modelo"
      ]
    },
    {
      "cell_type": "code",
      "execution_count": 13,
      "metadata": {
        "id": "jvsgIyx9e13X"
      },
      "outputs": [
        {
          "data": {
            "text/html": [
              "<style type=\"text/css\">\n",
              "#T_486de_row8_col1, #T_486de_row12_col1, #T_486de_row14_col1, #T_486de_row16_col1 {\n",
              "  background-color: lightgreen;\n",
              "}\n",
              "</style>\n",
              "<table id=\"T_486de\">\n",
              "  <thead>\n",
              "    <tr>\n",
              "      <th class=\"blank level0\" >&nbsp;</th>\n",
              "      <th id=\"T_486de_level0_col0\" class=\"col_heading level0 col0\" >Description</th>\n",
              "      <th id=\"T_486de_level0_col1\" class=\"col_heading level0 col1\" >Value</th>\n",
              "    </tr>\n",
              "  </thead>\n",
              "  <tbody>\n",
              "    <tr>\n",
              "      <th id=\"T_486de_level0_row0\" class=\"row_heading level0 row0\" >0</th>\n",
              "      <td id=\"T_486de_row0_col0\" class=\"data row0 col0\" >Session id</td>\n",
              "      <td id=\"T_486de_row0_col1\" class=\"data row0 col1\" >123</td>\n",
              "    </tr>\n",
              "    <tr>\n",
              "      <th id=\"T_486de_level0_row1\" class=\"row_heading level0 row1\" >1</th>\n",
              "      <td id=\"T_486de_row1_col0\" class=\"data row1 col0\" >Target</td>\n",
              "      <td id=\"T_486de_row1_col1\" class=\"data row1 col1\" >sale_dollars</td>\n",
              "    </tr>\n",
              "    <tr>\n",
              "      <th id=\"T_486de_level0_row2\" class=\"row_heading level0 row2\" >2</th>\n",
              "      <td id=\"T_486de_row2_col0\" class=\"data row2 col0\" >Target type</td>\n",
              "      <td id=\"T_486de_row2_col1\" class=\"data row2 col1\" >Regression</td>\n",
              "    </tr>\n",
              "    <tr>\n",
              "      <th id=\"T_486de_level0_row3\" class=\"row_heading level0 row3\" >3</th>\n",
              "      <td id=\"T_486de_row3_col0\" class=\"data row3 col0\" >Original data shape</td>\n",
              "      <td id=\"T_486de_row3_col1\" class=\"data row3 col1\" >(384, 10)</td>\n",
              "    </tr>\n",
              "    <tr>\n",
              "      <th id=\"T_486de_level0_row4\" class=\"row_heading level0 row4\" >4</th>\n",
              "      <td id=\"T_486de_row4_col0\" class=\"data row4 col0\" >Transformed data shape</td>\n",
              "      <td id=\"T_486de_row4_col1\" class=\"data row4 col1\" >(384, 7)</td>\n",
              "    </tr>\n",
              "    <tr>\n",
              "      <th id=\"T_486de_level0_row5\" class=\"row_heading level0 row5\" >5</th>\n",
              "      <td id=\"T_486de_row5_col0\" class=\"data row5 col0\" >Transformed train set shape</td>\n",
              "      <td id=\"T_486de_row5_col1\" class=\"data row5 col1\" >(268, 7)</td>\n",
              "    </tr>\n",
              "    <tr>\n",
              "      <th id=\"T_486de_level0_row6\" class=\"row_heading level0 row6\" >6</th>\n",
              "      <td id=\"T_486de_row6_col0\" class=\"data row6 col0\" >Transformed test set shape</td>\n",
              "      <td id=\"T_486de_row6_col1\" class=\"data row6 col1\" >(116, 7)</td>\n",
              "    </tr>\n",
              "    <tr>\n",
              "      <th id=\"T_486de_level0_row7\" class=\"row_heading level0 row7\" >7</th>\n",
              "      <td id=\"T_486de_row7_col0\" class=\"data row7 col0\" >Numeric features</td>\n",
              "      <td id=\"T_486de_row7_col1\" class=\"data row7 col1\" >9</td>\n",
              "    </tr>\n",
              "    <tr>\n",
              "      <th id=\"T_486de_level0_row8\" class=\"row_heading level0 row8\" >8</th>\n",
              "      <td id=\"T_486de_row8_col0\" class=\"data row8 col0\" >Preprocess</td>\n",
              "      <td id=\"T_486de_row8_col1\" class=\"data row8 col1\" >True</td>\n",
              "    </tr>\n",
              "    <tr>\n",
              "      <th id=\"T_486de_level0_row9\" class=\"row_heading level0 row9\" >9</th>\n",
              "      <td id=\"T_486de_row9_col0\" class=\"data row9 col0\" >Imputation type</td>\n",
              "      <td id=\"T_486de_row9_col1\" class=\"data row9 col1\" >simple</td>\n",
              "    </tr>\n",
              "    <tr>\n",
              "      <th id=\"T_486de_level0_row10\" class=\"row_heading level0 row10\" >10</th>\n",
              "      <td id=\"T_486de_row10_col0\" class=\"data row10 col0\" >Numeric imputation</td>\n",
              "      <td id=\"T_486de_row10_col1\" class=\"data row10 col1\" >mean</td>\n",
              "    </tr>\n",
              "    <tr>\n",
              "      <th id=\"T_486de_level0_row11\" class=\"row_heading level0 row11\" >11</th>\n",
              "      <td id=\"T_486de_row11_col0\" class=\"data row11 col0\" >Categorical imputation</td>\n",
              "      <td id=\"T_486de_row11_col1\" class=\"data row11 col1\" >mode</td>\n",
              "    </tr>\n",
              "    <tr>\n",
              "      <th id=\"T_486de_level0_row12\" class=\"row_heading level0 row12\" >12</th>\n",
              "      <td id=\"T_486de_row12_col0\" class=\"data row12 col0\" >Remove multicollinearity</td>\n",
              "      <td id=\"T_486de_row12_col1\" class=\"data row12 col1\" >True</td>\n",
              "    </tr>\n",
              "    <tr>\n",
              "      <th id=\"T_486de_level0_row13\" class=\"row_heading level0 row13\" >13</th>\n",
              "      <td id=\"T_486de_row13_col0\" class=\"data row13 col0\" >Multicollinearity threshold</td>\n",
              "      <td id=\"T_486de_row13_col1\" class=\"data row13 col1\" >0.950000</td>\n",
              "    </tr>\n",
              "    <tr>\n",
              "      <th id=\"T_486de_level0_row14\" class=\"row_heading level0 row14\" >14</th>\n",
              "      <td id=\"T_486de_row14_col0\" class=\"data row14 col0\" >Transformation</td>\n",
              "      <td id=\"T_486de_row14_col1\" class=\"data row14 col1\" >True</td>\n",
              "    </tr>\n",
              "    <tr>\n",
              "      <th id=\"T_486de_level0_row15\" class=\"row_heading level0 row15\" >15</th>\n",
              "      <td id=\"T_486de_row15_col0\" class=\"data row15 col0\" >Transformation method</td>\n",
              "      <td id=\"T_486de_row15_col1\" class=\"data row15 col1\" >yeo-johnson</td>\n",
              "    </tr>\n",
              "    <tr>\n",
              "      <th id=\"T_486de_level0_row16\" class=\"row_heading level0 row16\" >16</th>\n",
              "      <td id=\"T_486de_row16_col0\" class=\"data row16 col0\" >Normalize</td>\n",
              "      <td id=\"T_486de_row16_col1\" class=\"data row16 col1\" >True</td>\n",
              "    </tr>\n",
              "    <tr>\n",
              "      <th id=\"T_486de_level0_row17\" class=\"row_heading level0 row17\" >17</th>\n",
              "      <td id=\"T_486de_row17_col0\" class=\"data row17 col0\" >Normalize method</td>\n",
              "      <td id=\"T_486de_row17_col1\" class=\"data row17 col1\" >zscore</td>\n",
              "    </tr>\n",
              "    <tr>\n",
              "      <th id=\"T_486de_level0_row18\" class=\"row_heading level0 row18\" >18</th>\n",
              "      <td id=\"T_486de_row18_col0\" class=\"data row18 col0\" >Fold Generator</td>\n",
              "      <td id=\"T_486de_row18_col1\" class=\"data row18 col1\" >KFold</td>\n",
              "    </tr>\n",
              "    <tr>\n",
              "      <th id=\"T_486de_level0_row19\" class=\"row_heading level0 row19\" >19</th>\n",
              "      <td id=\"T_486de_row19_col0\" class=\"data row19 col0\" >Fold Number</td>\n",
              "      <td id=\"T_486de_row19_col1\" class=\"data row19 col1\" >10</td>\n",
              "    </tr>\n",
              "    <tr>\n",
              "      <th id=\"T_486de_level0_row20\" class=\"row_heading level0 row20\" >20</th>\n",
              "      <td id=\"T_486de_row20_col0\" class=\"data row20 col0\" >CPU Jobs</td>\n",
              "      <td id=\"T_486de_row20_col1\" class=\"data row20 col1\" >-1</td>\n",
              "    </tr>\n",
              "    <tr>\n",
              "      <th id=\"T_486de_level0_row21\" class=\"row_heading level0 row21\" >21</th>\n",
              "      <td id=\"T_486de_row21_col0\" class=\"data row21 col0\" >Use GPU</td>\n",
              "      <td id=\"T_486de_row21_col1\" class=\"data row21 col1\" >False</td>\n",
              "    </tr>\n",
              "    <tr>\n",
              "      <th id=\"T_486de_level0_row22\" class=\"row_heading level0 row22\" >22</th>\n",
              "      <td id=\"T_486de_row22_col0\" class=\"data row22 col0\" >Log Experiment</td>\n",
              "      <td id=\"T_486de_row22_col1\" class=\"data row22 col1\" >False</td>\n",
              "    </tr>\n",
              "    <tr>\n",
              "      <th id=\"T_486de_level0_row23\" class=\"row_heading level0 row23\" >23</th>\n",
              "      <td id=\"T_486de_row23_col0\" class=\"data row23 col0\" >Experiment Name</td>\n",
              "      <td id=\"T_486de_row23_col1\" class=\"data row23 col1\" >reg-default-name</td>\n",
              "    </tr>\n",
              "    <tr>\n",
              "      <th id=\"T_486de_level0_row24\" class=\"row_heading level0 row24\" >24</th>\n",
              "      <td id=\"T_486de_row24_col0\" class=\"data row24 col0\" >USI</td>\n",
              "      <td id=\"T_486de_row24_col1\" class=\"data row24 col1\" >d011</td>\n",
              "    </tr>\n",
              "  </tbody>\n",
              "</table>\n"
            ],
            "text/plain": [
              "<pandas.io.formats.style.Styler at 0x173a6958810>"
            ]
          },
          "metadata": {},
          "output_type": "display_data"
        }
      ],
      "source": [
        "## Realiza el pre-procesamiento de datos con pycaret (funcion: setup()) con la siguiente configuracion:\n",
        "## Imputacion en base a la media, añade las variables categoricas generadas anteriormente, transforma las variables (incluido\n",
        "## la variable objetivo)\n",
        "## Configuracion adicional: combine_rare_levels = True, rare_level_threshold = 0.1,\n",
        "##                  remove_multicollinearity = True, multicollinearity_threshold = 0.95,silent = True\n",
        "reg = setup(data = train, target = 'sale_dollars', session_id=123, \n",
        "            normalize = True, \n",
        "            transformation = True, \n",
        "            remove_multicollinearity = True, multicollinearity_threshold = 0.95)\n"
      ]
    },
    {
      "cell_type": "code",
      "execution_count": 14,
      "metadata": {
        "id": "H1oBLC0We13X",
        "scrolled": false
      },
      "outputs": [
        {
          "data": {
            "text/html": [],
            "text/plain": [
              "<IPython.core.display.HTML object>"
            ]
          },
          "metadata": {},
          "output_type": "display_data"
        },
        {
          "data": {
            "text/html": [
              "<div>\n",
              "<style scoped>\n",
              "    .dataframe tbody tr th:only-of-type {\n",
              "        vertical-align: middle;\n",
              "    }\n",
              "\n",
              "    .dataframe tbody tr th {\n",
              "        vertical-align: top;\n",
              "    }\n",
              "\n",
              "    .dataframe thead th {\n",
              "        text-align: right;\n",
              "    }\n",
              "</style>\n",
              "<table border=\"1\" class=\"dataframe\">\n",
              "  <thead>\n",
              "    <tr style=\"text-align: right;\">\n",
              "      <th></th>\n",
              "      <th>Model</th>\n",
              "      <th>MAE</th>\n",
              "      <th>MSE</th>\n",
              "      <th>RMSE</th>\n",
              "      <th>R2</th>\n",
              "      <th>RMSLE</th>\n",
              "      <th>MAPE</th>\n",
              "      <th>TT (Sec)</th>\n",
              "    </tr>\n",
              "  </thead>\n",
              "  <tbody>\n",
              "  </tbody>\n",
              "</table>\n",
              "</div>"
            ],
            "text/plain": [
              "Empty DataFrame\n",
              "Columns: [Model, MAE, MSE, RMSE, R2, RMSLE, MAPE, TT (Sec)]\n",
              "Index: []"
            ]
          },
          "metadata": {},
          "output_type": "display_data"
        },
        {
          "data": {
            "text/html": [],
            "text/plain": [
              "<IPython.core.display.HTML object>"
            ]
          },
          "metadata": {},
          "output_type": "display_data"
        }
      ],
      "source": [
        "# Entrena el mejor modelo con base al R2\n",
        "best = compare_models(sort = 'R2')\n"
      ]
    },
    {
      "cell_type": "markdown",
      "metadata": {
        "id": "WrcUB-yQe13X"
      },
      "source": [
        "# Parte III"
      ]
    },
    {
      "cell_type": "markdown",
      "metadata": {
        "id": "ZGtDttEWe13X"
      },
      "source": [
        "### Predicción y evaluación del modelo"
      ]
    },
    {
      "cell_type": "markdown",
      "metadata": {
        "id": "Rdx5bKGKe13X"
      },
      "source": [
        "##### Predicción con datos de entrenamiento"
      ]
    },
    {
      "cell_type": "code",
      "execution_count": 15,
      "metadata": {
        "id": "ArogECvRe13X",
        "outputId": "ac108244-1c6c-4145-9673-1d9c2bf82d03"
      },
      "outputs": [
        {
          "data": {
            "text/html": [
              "<style type=\"text/css\">\n",
              "</style>\n",
              "<table id=\"T_a8fe8\">\n",
              "  <thead>\n",
              "    <tr>\n",
              "      <th class=\"blank level0\" >&nbsp;</th>\n",
              "      <th id=\"T_a8fe8_level0_col0\" class=\"col_heading level0 col0\" >Model</th>\n",
              "      <th id=\"T_a8fe8_level0_col1\" class=\"col_heading level0 col1\" >MAE</th>\n",
              "      <th id=\"T_a8fe8_level0_col2\" class=\"col_heading level0 col2\" >MSE</th>\n",
              "      <th id=\"T_a8fe8_level0_col3\" class=\"col_heading level0 col3\" >RMSE</th>\n",
              "      <th id=\"T_a8fe8_level0_col4\" class=\"col_heading level0 col4\" >R2</th>\n",
              "      <th id=\"T_a8fe8_level0_col5\" class=\"col_heading level0 col5\" >RMSLE</th>\n",
              "      <th id=\"T_a8fe8_level0_col6\" class=\"col_heading level0 col6\" >MAPE</th>\n",
              "    </tr>\n",
              "  </thead>\n",
              "  <tbody>\n",
              "    <tr>\n",
              "      <th id=\"T_a8fe8_level0_row0\" class=\"row_heading level0 row0\" >0</th>\n",
              "      <td id=\"T_a8fe8_row0_col0\" class=\"data row0 col0\" >Light Gradient Boosting Machine</td>\n",
              "      <td id=\"T_a8fe8_row0_col1\" class=\"data row0 col1\" >18394.9398</td>\n",
              "      <td id=\"T_a8fe8_row0_col2\" class=\"data row0 col2\" >632129424.1375</td>\n",
              "      <td id=\"T_a8fe8_row0_col3\" class=\"data row0 col3\" >25142.1842</td>\n",
              "      <td id=\"T_a8fe8_row0_col4\" class=\"data row0 col4\" >0.7842</td>\n",
              "      <td id=\"T_a8fe8_row0_col5\" class=\"data row0 col5\" >1.7376</td>\n",
              "      <td id=\"T_a8fe8_row0_col6\" class=\"data row0 col6\" >19.1130</td>\n",
              "    </tr>\n",
              "  </tbody>\n",
              "</table>\n"
            ],
            "text/plain": [
              "<pandas.io.formats.style.Styler at 0x173a6d41610>"
            ]
          },
          "metadata": {},
          "output_type": "display_data"
        },
        {
          "data": {
            "text/html": [
              "<div>\n",
              "<style scoped>\n",
              "    .dataframe tbody tr th:only-of-type {\n",
              "        vertical-align: middle;\n",
              "    }\n",
              "\n",
              "    .dataframe tbody tr th {\n",
              "        vertical-align: top;\n",
              "    }\n",
              "\n",
              "    .dataframe thead th {\n",
              "        text-align: right;\n",
              "    }\n",
              "</style>\n",
              "<table border=\"1\" class=\"dataframe\">\n",
              "  <thead>\n",
              "    <tr style=\"text-align: right;\">\n",
              "      <th></th>\n",
              "      <th>dayofweek</th>\n",
              "      <th>quarter</th>\n",
              "      <th>month</th>\n",
              "      <th>year</th>\n",
              "      <th>dayofyear</th>\n",
              "      <th>dayofmonth</th>\n",
              "      <th>weekofyear</th>\n",
              "      <th>flag</th>\n",
              "      <th>is_weekend</th>\n",
              "      <th>sale_dollars</th>\n",
              "      <th>prediction_label</th>\n",
              "    </tr>\n",
              "    <tr>\n",
              "      <th>date</th>\n",
              "      <th></th>\n",
              "      <th></th>\n",
              "      <th></th>\n",
              "      <th></th>\n",
              "      <th></th>\n",
              "      <th></th>\n",
              "      <th></th>\n",
              "      <th></th>\n",
              "      <th></th>\n",
              "      <th></th>\n",
              "      <th></th>\n",
              "    </tr>\n",
              "  </thead>\n",
              "  <tbody>\n",
              "    <tr>\n",
              "      <th>2018-01-03</th>\n",
              "      <td>2</td>\n",
              "      <td>1</td>\n",
              "      <td>1</td>\n",
              "      <td>2018</td>\n",
              "      <td>3</td>\n",
              "      <td>3</td>\n",
              "      <td>1</td>\n",
              "      <td>0</td>\n",
              "      <td>0</td>\n",
              "      <td>10639.429688</td>\n",
              "      <td>-9658.325975</td>\n",
              "    </tr>\n",
              "    <tr>\n",
              "      <th>2018-01-04</th>\n",
              "      <td>3</td>\n",
              "      <td>1</td>\n",
              "      <td>1</td>\n",
              "      <td>2018</td>\n",
              "      <td>4</td>\n",
              "      <td>4</td>\n",
              "      <td>1</td>\n",
              "      <td>0</td>\n",
              "      <td>0</td>\n",
              "      <td>105307.953125</td>\n",
              "      <td>75132.768640</td>\n",
              "    </tr>\n",
              "    <tr>\n",
              "      <th>2018-01-05</th>\n",
              "      <td>4</td>\n",
              "      <td>1</td>\n",
              "      <td>1</td>\n",
              "      <td>2018</td>\n",
              "      <td>5</td>\n",
              "      <td>5</td>\n",
              "      <td>1</td>\n",
              "      <td>0</td>\n",
              "      <td>0</td>\n",
              "      <td>10526.400391</td>\n",
              "      <td>11126.058622</td>\n",
              "    </tr>\n",
              "    <tr>\n",
              "      <th>2018-01-08</th>\n",
              "      <td>0</td>\n",
              "      <td>1</td>\n",
              "      <td>1</td>\n",
              "      <td>2018</td>\n",
              "      <td>8</td>\n",
              "      <td>8</td>\n",
              "      <td>2</td>\n",
              "      <td>0</td>\n",
              "      <td>0</td>\n",
              "      <td>65236.679688</td>\n",
              "      <td>92849.306437</td>\n",
              "    </tr>\n",
              "    <tr>\n",
              "      <th>2018-01-11</th>\n",
              "      <td>3</td>\n",
              "      <td>1</td>\n",
              "      <td>1</td>\n",
              "      <td>2018</td>\n",
              "      <td>11</td>\n",
              "      <td>11</td>\n",
              "      <td>2</td>\n",
              "      <td>0</td>\n",
              "      <td>0</td>\n",
              "      <td>55396.460938</td>\n",
              "      <td>73866.301428</td>\n",
              "    </tr>\n",
              "  </tbody>\n",
              "</table>\n",
              "</div>"
            ],
            "text/plain": [
              "            dayofweek  quarter  month  year  dayofyear  dayofmonth  \\\n",
              "date                                                                 \n",
              "2018-01-03          2        1      1  2018          3           3   \n",
              "2018-01-04          3        1      1  2018          4           4   \n",
              "2018-01-05          4        1      1  2018          5           5   \n",
              "2018-01-08          0        1      1  2018          8           8   \n",
              "2018-01-11          3        1      1  2018         11          11   \n",
              "\n",
              "            weekofyear  flag  is_weekend   sale_dollars  prediction_label  \n",
              "date                                                                       \n",
              "2018-01-03           1     0           0   10639.429688      -9658.325975  \n",
              "2018-01-04           1     0           0  105307.953125      75132.768640  \n",
              "2018-01-05           1     0           0   10526.400391      11126.058622  \n",
              "2018-01-08           2     0           0   65236.679688      92849.306437  \n",
              "2018-01-11           2     0           0   55396.460938      73866.301428  "
            ]
          },
          "execution_count": 15,
          "metadata": {},
          "output_type": "execute_result"
        }
      ],
      "source": [
        "# Realiza una prediccion sobre los datos de train, nombralo como predictions\n",
        "predictions = predict_model(best, data = train)\n",
        "predictions.head()"
      ]
    },
    {
      "cell_type": "code",
      "execution_count": 16,
      "metadata": {},
      "outputs": [
        {
          "data": {
            "application/vnd.plotly.v1+json": {
              "config": {
                "plotlyServerURL": "https://plot.ly"
              },
              "data": [
                {
                  "hovertemplate": "variable=sale_dollars<br>x=%{x}<br>value=%{y}<extra></extra>",
                  "legendgroup": "sale_dollars",
                  "line": {
                    "color": "#636efa",
                    "dash": "solid"
                  },
                  "marker": {
                    "symbol": "circle"
                  },
                  "mode": "lines",
                  "name": "sale_dollars",
                  "orientation": "v",
                  "showlegend": true,
                  "type": "scatter",
                  "x": [
                    "2018-01-03T00:00:00",
                    "2018-01-04T00:00:00",
                    "2018-01-05T00:00:00",
                    "2018-01-08T00:00:00",
                    "2018-01-11T00:00:00",
                    "2018-01-15T00:00:00",
                    "2018-01-17T00:00:00",
                    "2018-01-18T00:00:00",
                    "2018-01-22T00:00:00",
                    "2018-01-25T00:00:00",
                    "2018-01-29T00:00:00",
                    "2018-01-31T00:00:00",
                    "2018-02-01T00:00:00",
                    "2018-02-05T00:00:00",
                    "2018-02-06T00:00:00",
                    "2018-02-08T00:00:00",
                    "2018-02-12T00:00:00",
                    "2018-02-15T00:00:00",
                    "2018-02-19T00:00:00",
                    "2018-02-22T00:00:00",
                    "2018-02-23T00:00:00",
                    "2018-02-26T00:00:00",
                    "2018-02-27T00:00:00",
                    "2018-03-01T00:00:00",
                    "2018-03-05T00:00:00",
                    "2018-03-08T00:00:00",
                    "2018-03-12T00:00:00",
                    "2018-03-14T00:00:00",
                    "2018-03-15T00:00:00",
                    "2018-03-19T00:00:00",
                    "2018-03-22T00:00:00",
                    "2018-03-23T00:00:00",
                    "2018-03-26T00:00:00",
                    "2018-03-27T00:00:00",
                    "2018-03-28T00:00:00",
                    "2018-03-29T00:00:00",
                    "2018-04-02T00:00:00",
                    "2018-04-05T00:00:00",
                    "2018-04-09T00:00:00",
                    "2018-04-12T00:00:00",
                    "2018-04-16T00:00:00",
                    "2018-04-19T00:00:00",
                    "2018-04-23T00:00:00",
                    "2018-04-25T00:00:00",
                    "2018-04-26T00:00:00",
                    "2018-04-27T00:00:00",
                    "2018-04-30T00:00:00",
                    "2018-05-01T00:00:00",
                    "2018-05-02T00:00:00",
                    "2018-05-03T00:00:00",
                    "2018-05-04T00:00:00",
                    "2018-05-07T00:00:00",
                    "2018-05-09T00:00:00",
                    "2018-05-10T00:00:00",
                    "2018-05-14T00:00:00",
                    "2018-05-16T00:00:00",
                    "2018-05-17T00:00:00",
                    "2018-05-18T00:00:00",
                    "2018-05-21T00:00:00",
                    "2018-05-24T00:00:00",
                    "2018-05-25T00:00:00",
                    "2018-05-30T00:00:00",
                    "2018-05-31T00:00:00",
                    "2018-06-04T00:00:00",
                    "2018-06-05T00:00:00",
                    "2018-06-06T00:00:00",
                    "2018-06-07T00:00:00",
                    "2018-06-08T00:00:00",
                    "2018-06-11T00:00:00",
                    "2018-06-13T00:00:00",
                    "2018-06-14T00:00:00",
                    "2018-06-18T00:00:00",
                    "2018-06-19T00:00:00",
                    "2018-06-21T00:00:00",
                    "2018-06-22T00:00:00",
                    "2018-06-25T00:00:00",
                    "2018-06-26T00:00:00",
                    "2018-06-28T00:00:00",
                    "2018-06-29T00:00:00",
                    "2018-07-03T00:00:00",
                    "2018-07-05T00:00:00",
                    "2018-07-06T00:00:00",
                    "2018-07-09T00:00:00",
                    "2018-07-10T00:00:00",
                    "2018-07-12T00:00:00",
                    "2018-07-16T00:00:00",
                    "2018-07-19T00:00:00",
                    "2018-07-20T00:00:00",
                    "2018-07-23T00:00:00",
                    "2018-07-24T00:00:00",
                    "2018-07-26T00:00:00",
                    "2018-07-27T00:00:00",
                    "2018-07-30T00:00:00",
                    "2018-07-31T00:00:00",
                    "2018-08-01T00:00:00",
                    "2018-08-02T00:00:00",
                    "2018-08-03T00:00:00",
                    "2018-08-06T00:00:00",
                    "2018-08-07T00:00:00",
                    "2018-08-09T00:00:00",
                    "2018-08-13T00:00:00",
                    "2018-08-16T00:00:00",
                    "2018-08-20T00:00:00",
                    "2018-08-23T00:00:00",
                    "2018-08-27T00:00:00",
                    "2018-08-28T00:00:00",
                    "2018-08-30T00:00:00",
                    "2018-08-31T00:00:00",
                    "2018-09-04T00:00:00",
                    "2018-09-06T00:00:00",
                    "2018-09-10T00:00:00",
                    "2018-09-11T00:00:00",
                    "2018-09-13T00:00:00",
                    "2018-09-17T00:00:00",
                    "2018-09-18T00:00:00",
                    "2018-09-20T00:00:00",
                    "2018-09-24T00:00:00",
                    "2018-09-25T00:00:00",
                    "2018-09-27T00:00:00",
                    "2018-10-01T00:00:00",
                    "2018-10-02T00:00:00",
                    "2018-10-04T00:00:00",
                    "2018-10-08T00:00:00",
                    "2018-10-09T00:00:00",
                    "2018-10-11T00:00:00",
                    "2018-10-15T00:00:00",
                    "2018-10-16T00:00:00",
                    "2018-10-18T00:00:00",
                    "2018-10-22T00:00:00",
                    "2018-10-23T00:00:00",
                    "2018-10-25T00:00:00",
                    "2018-10-29T00:00:00",
                    "2018-10-30T00:00:00",
                    "2018-10-31T00:00:00",
                    "2018-11-01T00:00:00",
                    "2018-11-05T00:00:00",
                    "2018-11-08T00:00:00",
                    "2018-11-12T00:00:00",
                    "2018-11-14T00:00:00",
                    "2018-11-15T00:00:00",
                    "2018-11-19T00:00:00",
                    "2018-11-20T00:00:00",
                    "2018-11-26T00:00:00",
                    "2018-11-29T00:00:00",
                    "2018-12-03T00:00:00",
                    "2018-12-04T00:00:00",
                    "2018-12-05T00:00:00",
                    "2018-12-06T00:00:00",
                    "2018-12-10T00:00:00",
                    "2018-12-11T00:00:00",
                    "2018-12-13T00:00:00",
                    "2018-12-17T00:00:00",
                    "2018-12-20T00:00:00",
                    "2018-12-21T00:00:00",
                    "2018-12-28T00:00:00",
                    "2018-12-31T00:00:00",
                    "2019-01-02T00:00:00",
                    "2019-01-03T00:00:00",
                    "2019-01-04T00:00:00",
                    "2019-01-07T00:00:00",
                    "2019-01-09T00:00:00",
                    "2019-01-10T00:00:00",
                    "2019-01-14T00:00:00",
                    "2019-01-17T00:00:00",
                    "2019-01-18T00:00:00",
                    "2019-01-22T00:00:00",
                    "2019-01-23T00:00:00",
                    "2019-01-24T00:00:00",
                    "2019-01-28T00:00:00",
                    "2019-01-31T00:00:00",
                    "2019-02-04T00:00:00",
                    "2019-02-06T00:00:00",
                    "2019-02-07T00:00:00",
                    "2019-02-11T00:00:00",
                    "2019-02-12T00:00:00",
                    "2019-02-13T00:00:00",
                    "2019-02-14T00:00:00",
                    "2019-02-18T00:00:00",
                    "2019-02-21T00:00:00",
                    "2019-02-25T00:00:00",
                    "2019-02-27T00:00:00",
                    "2019-02-28T00:00:00",
                    "2019-03-04T00:00:00",
                    "2019-03-05T00:00:00",
                    "2019-03-07T00:00:00",
                    "2019-03-11T00:00:00",
                    "2019-03-12T00:00:00",
                    "2019-03-13T00:00:00",
                    "2019-03-14T00:00:00",
                    "2019-03-18T00:00:00",
                    "2019-03-20T00:00:00",
                    "2019-03-21T00:00:00",
                    "2019-03-25T00:00:00",
                    "2019-03-26T00:00:00",
                    "2019-03-28T00:00:00",
                    "2019-04-01T00:00:00",
                    "2019-04-03T00:00:00",
                    "2019-04-04T00:00:00",
                    "2019-04-05T00:00:00",
                    "2019-04-08T00:00:00",
                    "2019-04-11T00:00:00",
                    "2019-04-15T00:00:00",
                    "2019-04-16T00:00:00",
                    "2019-04-18T00:00:00",
                    "2019-04-19T00:00:00",
                    "2019-04-22T00:00:00",
                    "2019-04-23T00:00:00",
                    "2019-04-24T00:00:00",
                    "2019-04-25T00:00:00",
                    "2019-04-29T00:00:00",
                    "2019-04-30T00:00:00",
                    "2019-05-02T00:00:00",
                    "2019-05-06T00:00:00",
                    "2019-05-07T00:00:00",
                    "2019-05-08T00:00:00",
                    "2019-05-09T00:00:00",
                    "2019-05-13T00:00:00",
                    "2019-05-14T00:00:00",
                    "2019-05-16T00:00:00",
                    "2019-05-20T00:00:00",
                    "2019-05-23T00:00:00",
                    "2019-05-24T00:00:00",
                    "2019-05-28T00:00:00",
                    "2019-05-30T00:00:00",
                    "2019-06-03T00:00:00",
                    "2019-06-04T00:00:00",
                    "2019-06-06T00:00:00",
                    "2019-06-10T00:00:00",
                    "2019-06-13T00:00:00",
                    "2019-06-17T00:00:00",
                    "2019-06-19T00:00:00",
                    "2019-06-20T00:00:00",
                    "2019-06-24T00:00:00",
                    "2019-06-26T00:00:00",
                    "2019-06-27T00:00:00",
                    "2019-07-01T00:00:00",
                    "2019-07-04T00:00:00",
                    "2019-07-05T00:00:00",
                    "2019-07-08T00:00:00",
                    "2019-07-10T00:00:00",
                    "2019-07-11T00:00:00",
                    "2019-07-12T00:00:00",
                    "2019-07-15T00:00:00",
                    "2019-07-17T00:00:00",
                    "2019-07-18T00:00:00",
                    "2019-07-22T00:00:00",
                    "2019-07-25T00:00:00",
                    "2019-07-29T00:00:00",
                    "2019-08-01T00:00:00",
                    "2019-08-05T00:00:00",
                    "2019-08-07T00:00:00",
                    "2019-08-08T00:00:00",
                    "2019-08-12T00:00:00",
                    "2019-08-15T00:00:00",
                    "2019-08-19T00:00:00",
                    "2019-08-20T00:00:00",
                    "2019-08-21T00:00:00",
                    "2019-08-22T00:00:00",
                    "2019-08-26T00:00:00",
                    "2019-08-27T00:00:00",
                    "2019-08-28T00:00:00",
                    "2019-08-29T00:00:00",
                    "2019-09-03T00:00:00",
                    "2019-09-04T00:00:00",
                    "2019-09-05T00:00:00",
                    "2019-09-09T00:00:00",
                    "2019-09-11T00:00:00",
                    "2019-09-12T00:00:00",
                    "2019-09-16T00:00:00",
                    "2019-09-18T00:00:00",
                    "2019-09-19T00:00:00",
                    "2019-09-23T00:00:00",
                    "2019-09-25T00:00:00",
                    "2019-09-26T00:00:00",
                    "2019-09-29T00:00:00",
                    "2019-10-03T00:00:00",
                    "2019-10-07T00:00:00",
                    "2019-10-10T00:00:00",
                    "2019-10-14T00:00:00",
                    "2019-10-15T00:00:00",
                    "2019-10-17T00:00:00",
                    "2019-10-21T00:00:00",
                    "2019-10-22T00:00:00",
                    "2019-10-24T00:00:00",
                    "2019-10-28T00:00:00",
                    "2019-10-30T00:00:00",
                    "2019-10-31T00:00:00",
                    "2019-11-04T00:00:00",
                    "2019-11-05T00:00:00",
                    "2019-11-07T00:00:00",
                    "2019-11-08T00:00:00",
                    "2019-11-11T00:00:00",
                    "2019-11-14T00:00:00",
                    "2019-11-18T00:00:00",
                    "2019-11-21T00:00:00",
                    "2019-11-22T00:00:00",
                    "2019-11-25T00:00:00",
                    "2019-11-29T00:00:00",
                    "2019-12-02T00:00:00",
                    "2019-12-05T00:00:00",
                    "2019-12-09T00:00:00",
                    "2019-12-10T00:00:00",
                    "2019-12-11T00:00:00",
                    "2019-12-12T00:00:00",
                    "2019-12-13T00:00:00",
                    "2019-12-16T00:00:00",
                    "2019-12-18T00:00:00",
                    "2019-12-19T00:00:00",
                    "2019-12-23T00:00:00",
                    "2019-12-26T00:00:00",
                    "2019-12-27T00:00:00",
                    "2019-12-30T00:00:00",
                    "2019-12-31T00:00:00",
                    "2020-01-02T00:00:00",
                    "2020-01-03T00:00:00",
                    "2020-01-06T00:00:00",
                    "2020-01-07T00:00:00",
                    "2020-01-09T00:00:00",
                    "2020-01-13T00:00:00",
                    "2020-01-16T00:00:00",
                    "2020-01-20T00:00:00",
                    "2020-01-21T00:00:00",
                    "2020-01-23T00:00:00",
                    "2020-01-27T00:00:00",
                    "2020-01-29T00:00:00",
                    "2020-01-30T00:00:00",
                    "2020-02-03T00:00:00",
                    "2020-02-04T00:00:00",
                    "2020-02-06T00:00:00",
                    "2020-02-07T00:00:00",
                    "2020-02-10T00:00:00",
                    "2020-02-12T00:00:00",
                    "2020-02-13T00:00:00",
                    "2020-02-17T00:00:00",
                    "2020-02-19T00:00:00",
                    "2020-02-20T00:00:00",
                    "2020-02-24T00:00:00",
                    "2020-02-25T00:00:00",
                    "2020-02-26T00:00:00",
                    "2020-02-27T00:00:00",
                    "2020-03-02T00:00:00",
                    "2020-03-03T00:00:00",
                    "2020-03-04T00:00:00",
                    "2020-03-05T00:00:00",
                    "2020-03-06T00:00:00",
                    "2020-03-09T00:00:00",
                    "2020-03-10T00:00:00",
                    "2020-03-12T00:00:00",
                    "2020-03-16T00:00:00",
                    "2020-03-17T00:00:00",
                    "2020-03-19T00:00:00",
                    "2020-03-26T00:00:00",
                    "2020-03-30T00:00:00",
                    "2020-04-02T00:00:00",
                    "2020-04-06T00:00:00",
                    "2020-04-09T00:00:00",
                    "2020-04-13T00:00:00",
                    "2020-04-16T00:00:00",
                    "2020-04-17T00:00:00",
                    "2020-04-20T00:00:00",
                    "2020-04-21T00:00:00",
                    "2020-04-22T00:00:00",
                    "2020-04-23T00:00:00",
                    "2020-04-24T00:00:00",
                    "2020-04-27T00:00:00",
                    "2020-04-30T00:00:00",
                    "2020-05-04T00:00:00",
                    "2020-05-07T00:00:00",
                    "2020-05-08T00:00:00",
                    "2020-05-11T00:00:00",
                    "2020-05-13T00:00:00",
                    "2020-05-14T00:00:00",
                    "2020-05-18T00:00:00",
                    "2020-05-19T00:00:00",
                    "2020-05-21T00:00:00",
                    "2020-05-27T00:00:00",
                    "2020-05-28T00:00:00",
                    "2020-06-01T00:00:00",
                    "2020-06-02T00:00:00",
                    "2020-06-04T00:00:00",
                    "2020-06-08T00:00:00",
                    "2020-06-09T00:00:00",
                    "2020-06-11T00:00:00",
                    "2020-06-12T00:00:00"
                  ],
                  "xaxis": "x",
                  "y": [
                    10639.4296875,
                    105307.953125,
                    10526.400390625,
                    65236.6796875,
                    55396.4609375,
                    82026.828125,
                    3761.070068359375,
                    48833.37109375,
                    111156.1484375,
                    51856.30078125,
                    149482.984375,
                    6456.9599609375,
                    72527.421875,
                    124380.3203125,
                    10927.4404296875,
                    75037.2578125,
                    107482.84375,
                    71562.5703125,
                    84702.3203125,
                    111931.8203125,
                    162,
                    92304.578125,
                    11.25,
                    89598.3828125,
                    144892.90625,
                    130689.7578125,
                    145115.203125,
                    10484.51953125,
                    97060.71875,
                    151947.1875,
                    86666.3203125,
                    105.37999725341797,
                    91917.90625,
                    3488.860107421875,
                    711.0599975585938,
                    97625.40625,
                    112742.578125,
                    66363.5,
                    111578.3125,
                    114302.53125,
                    89538.8515625,
                    150891.1875,
                    111309.703125,
                    6266.580078125,
                    102677.6328125,
                    1947.9599609375,
                    154963.15625,
                    8048.06005859375,
                    7785.31005859375,
                    80558.8671875,
                    340.32000732421875,
                    110191.6328125,
                    4095.760009765625,
                    144411.5,
                    58414.359375,
                    6197.35986328125,
                    121277.4921875,
                    180,
                    114362.9375,
                    80438.75,
                    119178.84375,
                    10683.419921875,
                    93048.3671875,
                    127426.7890625,
                    1213.0400390625,
                    0,
                    140034.65625,
                    72.95999908447266,
                    121737.5,
                    6163.580078125,
                    91251.4296875,
                    82919.3984375,
                    324,
                    116631.7890625,
                    135,
                    93556.2109375,
                    25827.439453125,
                    148382.21875,
                    59886.48828125,
                    9819.9599609375,
                    117323.28125,
                    79.55999755859375,
                    86104.4921875,
                    5941.22021484375,
                    94095.46875,
                    121619.65625,
                    116156.78125,
                    69.12000274658203,
                    89023.1796875,
                    7131.06982421875,
                    112304.3125,
                    166.55999755859375,
                    119318.40625,
                    6002.16015625,
                    403.20001220703125,
                    164130.5625,
                    570.239990234375,
                    65139.26953125,
                    2995.68994140625,
                    128560.328125,
                    51041.73828125,
                    112058.1328125,
                    96344.75,
                    105290.390625,
                    93710.75,
                    1876.02001953125,
                    159579.4375,
                    76640.640625,
                    872.9099731445312,
                    79107.0078125,
                    82974.3671875,
                    2440.56005859375,
                    148598.40625,
                    65596.6796875,
                    1447.1400146484375,
                    82808.6015625,
                    139650.546875,
                    1294.5,
                    106162.7890625,
                    142912.578125,
                    1113.8399658203125,
                    95642.859375,
                    79699.6875,
                    2669.889892578125,
                    77553.6015625,
                    114718.671875,
                    702.0999755859375,
                    91801.3828125,
                    86071.15625,
                    34.52000045776367,
                    118609.9765625,
                    86444.8984375,
                    688.3200073242188,
                    3375.510009765625,
                    95597.9296875,
                    106031.21875,
                    104961.578125,
                    116880.34375,
                    4630.5498046875,
                    124124.796875,
                    130019.421875,
                    5384.81982421875,
                    144870.6875,
                    78256.65625,
                    121494.390625,
                    4498.25,
                    4120.02001953125,
                    114458.1015625,
                    97652.796875,
                    4307.72998046875,
                    128236.5703125,
                    111204.890625,
                    160605.859375,
                    91911.140625,
                    176802.3125,
                    93970.6796875,
                    6384.009765625,
                    1967.27001953125,
                    5653.72021484375,
                    142131.78125,
                    5719.77001953125,
                    81082.078125,
                    107022.6484375,
                    68230.53125,
                    62107.30078125,
                    6319.35009765625,
                    141.1199951171875,
                    95020.7890625,
                    74093.9921875,
                    72377.40625,
                    162963.390625,
                    6200.2001953125,
                    47885.05078125,
                    117965.6171875,
                    14075.7001953125,
                    2085.81005859375,
                    55237.96875,
                    108946.53125,
                    138547.140625,
                    97455.5703125,
                    283.44000244140625,
                    84518.078125,
                    118956.1875,
                    5589.31005859375,
                    179338.25,
                    92838.5390625,
                    33631.96875,
                    6088.64990234375,
                    118131.8203125,
                    111402.5,
                    5663.10986328125,
                    123556.078125,
                    65082.8203125,
                    11.25,
                    56775.578125,
                    141267.796875,
                    6084.5,
                    136593.8125,
                    3532.199951171875,
                    99086.2578125,
                    104711.171875,
                    114437.5,
                    368.3999938964844,
                    123885.1328125,
                    426,
                    103513.4765625,
                    70.55999755859375,
                    9312.9501953125,
                    79761.71875,
                    97596.8125,
                    5674.919921875,
                    161599.140625,
                    82144.2265625,
                    9675.6298828125,
                    21990.599609375,
                    89934.6015625,
                    141782.140625,
                    13358.669921875,
                    119440.921875,
                    94246.8203125,
                    126090.2109375,
                    3983.340087890625,
                    126771.40625,
                    93984.78125,
                    96088.46875,
                    141.72000122070312,
                    150743.8125,
                    92798.78125,
                    109304.0078125,
                    106632.171875,
                    119.4000015258789,
                    56615.26953125,
                    153371.046875,
                    4177.7998046875,
                    119937.7734375,
                    124969.7734375,
                    4258.6201171875,
                    105117.8984375,
                    65937.40625,
                    3602.780029296875,
                    138056.171875,
                    9.649999618530273,
                    100880.65625,
                    1961.5400390625,
                    116019.2265625,
                    97022.46875,
                    103778.75,
                    111021.1875,
                    99753.5078125,
                    129234.46875,
                    2695.969970703125,
                    88514.5625,
                    122960.75,
                    73118.8515625,
                    142910.34375,
                    2270.10009765625,
                    483.1199951171875,
                    69761.53125,
                    123439.9375,
                    3141.9599609375,
                    2594.4599609375,
                    129330.1796875,
                    98952.7890625,
                    5091.080078125,
                    59593.69921875,
                    135971.96875,
                    3493.340087890625,
                    113216.8984375,
                    90572.7265625,
                    3866.110107421875,
                    122932.828125,
                    86296.25,
                    3196.889892578125,
                    115664.6875,
                    103513.8828125,
                    118220.65625,
                    129167.8984375,
                    93694.3671875,
                    128309.390625,
                    3904.409912109375,
                    77094.140625,
                    129130.28125,
                    3050.820068359375,
                    119991.40625,
                    69222.65625,
                    6197.080078125,
                    105612.953125,
                    81463.046875,
                    135,
                    90343.8671875,
                    129.1199951171875,
                    150598.34375,
                    71646.6015625,
                    79165.703125,
                    91802.34375,
                    248.10000610351562,
                    148987.546875,
                    147712.5625,
                    2960.760009765625,
                    140615.1875,
                    122812,
                    146.16000366210938,
                    4506.83984375,
                    96319.7265625,
                    5311.080078125,
                    124477.3125,
                    5644.33984375,
                    124912.7890625,
                    150915.703125,
                    72857.828125,
                    6630.72021484375,
                    166615.765625,
                    16650,
                    65864.59375,
                    2206.080078125,
                    55868.76171875,
                    5209.7998046875,
                    126862.4375,
                    81904.0703125,
                    63353.3515625,
                    113646.2890625,
                    4886.93994140625,
                    70184.7421875,
                    112987.2265625,
                    4364.7900390625,
                    83112.6328125,
                    93267.5703125,
                    6863.16015625,
                    93015.53125,
                    5199.68017578125,
                    153604.53125,
                    3909.6298828125,
                    94605.6328125,
                    125973.3203125,
                    215.39999389648438,
                    81012.890625,
                    151064.765625,
                    73.80000305175781,
                    2142.239990234375,
                    78589.71875,
                    105083.9375,
                    121.08000183105469,
                    1968.5999755859375,
                    132203.546875,
                    141.72000122070312,
                    151482.3125,
                    1625.5799560546875,
                    100178.8671875,
                    141188.765625,
                    358.20001220703125,
                    198,
                    38532.8984375,
                    4900.22998046875,
                    1794,
                    419.5799865722656,
                    2536.10009765625,
                    6599.5400390625,
                    13685.2099609375,
                    1394.8800048828125,
                    293.8699951171875,
                    1202.6400146484375,
                    4950,
                    11142.3798828125,
                    1262.449951171875,
                    2572.31005859375,
                    20537.529296875,
                    13245.66015625,
                    4264.0498046875,
                    2595.419921875,
                    3960.719970703125,
                    4105.14013671875,
                    41717.8203125,
                    32676.359375,
                    69.36000061035156,
                    30679.0390625,
                    7550.31005859375,
                    75926.8828125,
                    42686.6484375,
                    119.4000015258789,
                    112454.453125,
                    83170.2734375,
                    2588.93994140625,
                    69550.0703125,
                    3011.429931640625
                  ],
                  "yaxis": "y"
                },
                {
                  "hovertemplate": "variable=prediction_label<br>x=%{x}<br>value=%{y}<extra></extra>",
                  "legendgroup": "prediction_label",
                  "line": {
                    "color": "#EF553B",
                    "dash": "solid"
                  },
                  "marker": {
                    "symbol": "circle"
                  },
                  "mode": "lines",
                  "name": "prediction_label",
                  "orientation": "v",
                  "showlegend": true,
                  "type": "scatter",
                  "x": [
                    "2018-01-03T00:00:00",
                    "2018-01-04T00:00:00",
                    "2018-01-05T00:00:00",
                    "2018-01-08T00:00:00",
                    "2018-01-11T00:00:00",
                    "2018-01-15T00:00:00",
                    "2018-01-17T00:00:00",
                    "2018-01-18T00:00:00",
                    "2018-01-22T00:00:00",
                    "2018-01-25T00:00:00",
                    "2018-01-29T00:00:00",
                    "2018-01-31T00:00:00",
                    "2018-02-01T00:00:00",
                    "2018-02-05T00:00:00",
                    "2018-02-06T00:00:00",
                    "2018-02-08T00:00:00",
                    "2018-02-12T00:00:00",
                    "2018-02-15T00:00:00",
                    "2018-02-19T00:00:00",
                    "2018-02-22T00:00:00",
                    "2018-02-23T00:00:00",
                    "2018-02-26T00:00:00",
                    "2018-02-27T00:00:00",
                    "2018-03-01T00:00:00",
                    "2018-03-05T00:00:00",
                    "2018-03-08T00:00:00",
                    "2018-03-12T00:00:00",
                    "2018-03-14T00:00:00",
                    "2018-03-15T00:00:00",
                    "2018-03-19T00:00:00",
                    "2018-03-22T00:00:00",
                    "2018-03-23T00:00:00",
                    "2018-03-26T00:00:00",
                    "2018-03-27T00:00:00",
                    "2018-03-28T00:00:00",
                    "2018-03-29T00:00:00",
                    "2018-04-02T00:00:00",
                    "2018-04-05T00:00:00",
                    "2018-04-09T00:00:00",
                    "2018-04-12T00:00:00",
                    "2018-04-16T00:00:00",
                    "2018-04-19T00:00:00",
                    "2018-04-23T00:00:00",
                    "2018-04-25T00:00:00",
                    "2018-04-26T00:00:00",
                    "2018-04-27T00:00:00",
                    "2018-04-30T00:00:00",
                    "2018-05-01T00:00:00",
                    "2018-05-02T00:00:00",
                    "2018-05-03T00:00:00",
                    "2018-05-04T00:00:00",
                    "2018-05-07T00:00:00",
                    "2018-05-09T00:00:00",
                    "2018-05-10T00:00:00",
                    "2018-05-14T00:00:00",
                    "2018-05-16T00:00:00",
                    "2018-05-17T00:00:00",
                    "2018-05-18T00:00:00",
                    "2018-05-21T00:00:00",
                    "2018-05-24T00:00:00",
                    "2018-05-25T00:00:00",
                    "2018-05-30T00:00:00",
                    "2018-05-31T00:00:00",
                    "2018-06-04T00:00:00",
                    "2018-06-05T00:00:00",
                    "2018-06-06T00:00:00",
                    "2018-06-07T00:00:00",
                    "2018-06-08T00:00:00",
                    "2018-06-11T00:00:00",
                    "2018-06-13T00:00:00",
                    "2018-06-14T00:00:00",
                    "2018-06-18T00:00:00",
                    "2018-06-19T00:00:00",
                    "2018-06-21T00:00:00",
                    "2018-06-22T00:00:00",
                    "2018-06-25T00:00:00",
                    "2018-06-26T00:00:00",
                    "2018-06-28T00:00:00",
                    "2018-06-29T00:00:00",
                    "2018-07-03T00:00:00",
                    "2018-07-05T00:00:00",
                    "2018-07-06T00:00:00",
                    "2018-07-09T00:00:00",
                    "2018-07-10T00:00:00",
                    "2018-07-12T00:00:00",
                    "2018-07-16T00:00:00",
                    "2018-07-19T00:00:00",
                    "2018-07-20T00:00:00",
                    "2018-07-23T00:00:00",
                    "2018-07-24T00:00:00",
                    "2018-07-26T00:00:00",
                    "2018-07-27T00:00:00",
                    "2018-07-30T00:00:00",
                    "2018-07-31T00:00:00",
                    "2018-08-01T00:00:00",
                    "2018-08-02T00:00:00",
                    "2018-08-03T00:00:00",
                    "2018-08-06T00:00:00",
                    "2018-08-07T00:00:00",
                    "2018-08-09T00:00:00",
                    "2018-08-13T00:00:00",
                    "2018-08-16T00:00:00",
                    "2018-08-20T00:00:00",
                    "2018-08-23T00:00:00",
                    "2018-08-27T00:00:00",
                    "2018-08-28T00:00:00",
                    "2018-08-30T00:00:00",
                    "2018-08-31T00:00:00",
                    "2018-09-04T00:00:00",
                    "2018-09-06T00:00:00",
                    "2018-09-10T00:00:00",
                    "2018-09-11T00:00:00",
                    "2018-09-13T00:00:00",
                    "2018-09-17T00:00:00",
                    "2018-09-18T00:00:00",
                    "2018-09-20T00:00:00",
                    "2018-09-24T00:00:00",
                    "2018-09-25T00:00:00",
                    "2018-09-27T00:00:00",
                    "2018-10-01T00:00:00",
                    "2018-10-02T00:00:00",
                    "2018-10-04T00:00:00",
                    "2018-10-08T00:00:00",
                    "2018-10-09T00:00:00",
                    "2018-10-11T00:00:00",
                    "2018-10-15T00:00:00",
                    "2018-10-16T00:00:00",
                    "2018-10-18T00:00:00",
                    "2018-10-22T00:00:00",
                    "2018-10-23T00:00:00",
                    "2018-10-25T00:00:00",
                    "2018-10-29T00:00:00",
                    "2018-10-30T00:00:00",
                    "2018-10-31T00:00:00",
                    "2018-11-01T00:00:00",
                    "2018-11-05T00:00:00",
                    "2018-11-08T00:00:00",
                    "2018-11-12T00:00:00",
                    "2018-11-14T00:00:00",
                    "2018-11-15T00:00:00",
                    "2018-11-19T00:00:00",
                    "2018-11-20T00:00:00",
                    "2018-11-26T00:00:00",
                    "2018-11-29T00:00:00",
                    "2018-12-03T00:00:00",
                    "2018-12-04T00:00:00",
                    "2018-12-05T00:00:00",
                    "2018-12-06T00:00:00",
                    "2018-12-10T00:00:00",
                    "2018-12-11T00:00:00",
                    "2018-12-13T00:00:00",
                    "2018-12-17T00:00:00",
                    "2018-12-20T00:00:00",
                    "2018-12-21T00:00:00",
                    "2018-12-28T00:00:00",
                    "2018-12-31T00:00:00",
                    "2019-01-02T00:00:00",
                    "2019-01-03T00:00:00",
                    "2019-01-04T00:00:00",
                    "2019-01-07T00:00:00",
                    "2019-01-09T00:00:00",
                    "2019-01-10T00:00:00",
                    "2019-01-14T00:00:00",
                    "2019-01-17T00:00:00",
                    "2019-01-18T00:00:00",
                    "2019-01-22T00:00:00",
                    "2019-01-23T00:00:00",
                    "2019-01-24T00:00:00",
                    "2019-01-28T00:00:00",
                    "2019-01-31T00:00:00",
                    "2019-02-04T00:00:00",
                    "2019-02-06T00:00:00",
                    "2019-02-07T00:00:00",
                    "2019-02-11T00:00:00",
                    "2019-02-12T00:00:00",
                    "2019-02-13T00:00:00",
                    "2019-02-14T00:00:00",
                    "2019-02-18T00:00:00",
                    "2019-02-21T00:00:00",
                    "2019-02-25T00:00:00",
                    "2019-02-27T00:00:00",
                    "2019-02-28T00:00:00",
                    "2019-03-04T00:00:00",
                    "2019-03-05T00:00:00",
                    "2019-03-07T00:00:00",
                    "2019-03-11T00:00:00",
                    "2019-03-12T00:00:00",
                    "2019-03-13T00:00:00",
                    "2019-03-14T00:00:00",
                    "2019-03-18T00:00:00",
                    "2019-03-20T00:00:00",
                    "2019-03-21T00:00:00",
                    "2019-03-25T00:00:00",
                    "2019-03-26T00:00:00",
                    "2019-03-28T00:00:00",
                    "2019-04-01T00:00:00",
                    "2019-04-03T00:00:00",
                    "2019-04-04T00:00:00",
                    "2019-04-05T00:00:00",
                    "2019-04-08T00:00:00",
                    "2019-04-11T00:00:00",
                    "2019-04-15T00:00:00",
                    "2019-04-16T00:00:00",
                    "2019-04-18T00:00:00",
                    "2019-04-19T00:00:00",
                    "2019-04-22T00:00:00",
                    "2019-04-23T00:00:00",
                    "2019-04-24T00:00:00",
                    "2019-04-25T00:00:00",
                    "2019-04-29T00:00:00",
                    "2019-04-30T00:00:00",
                    "2019-05-02T00:00:00",
                    "2019-05-06T00:00:00",
                    "2019-05-07T00:00:00",
                    "2019-05-08T00:00:00",
                    "2019-05-09T00:00:00",
                    "2019-05-13T00:00:00",
                    "2019-05-14T00:00:00",
                    "2019-05-16T00:00:00",
                    "2019-05-20T00:00:00",
                    "2019-05-23T00:00:00",
                    "2019-05-24T00:00:00",
                    "2019-05-28T00:00:00",
                    "2019-05-30T00:00:00",
                    "2019-06-03T00:00:00",
                    "2019-06-04T00:00:00",
                    "2019-06-06T00:00:00",
                    "2019-06-10T00:00:00",
                    "2019-06-13T00:00:00",
                    "2019-06-17T00:00:00",
                    "2019-06-19T00:00:00",
                    "2019-06-20T00:00:00",
                    "2019-06-24T00:00:00",
                    "2019-06-26T00:00:00",
                    "2019-06-27T00:00:00",
                    "2019-07-01T00:00:00",
                    "2019-07-04T00:00:00",
                    "2019-07-05T00:00:00",
                    "2019-07-08T00:00:00",
                    "2019-07-10T00:00:00",
                    "2019-07-11T00:00:00",
                    "2019-07-12T00:00:00",
                    "2019-07-15T00:00:00",
                    "2019-07-17T00:00:00",
                    "2019-07-18T00:00:00",
                    "2019-07-22T00:00:00",
                    "2019-07-25T00:00:00",
                    "2019-07-29T00:00:00",
                    "2019-08-01T00:00:00",
                    "2019-08-05T00:00:00",
                    "2019-08-07T00:00:00",
                    "2019-08-08T00:00:00",
                    "2019-08-12T00:00:00",
                    "2019-08-15T00:00:00",
                    "2019-08-19T00:00:00",
                    "2019-08-20T00:00:00",
                    "2019-08-21T00:00:00",
                    "2019-08-22T00:00:00",
                    "2019-08-26T00:00:00",
                    "2019-08-27T00:00:00",
                    "2019-08-28T00:00:00",
                    "2019-08-29T00:00:00",
                    "2019-09-03T00:00:00",
                    "2019-09-04T00:00:00",
                    "2019-09-05T00:00:00",
                    "2019-09-09T00:00:00",
                    "2019-09-11T00:00:00",
                    "2019-09-12T00:00:00",
                    "2019-09-16T00:00:00",
                    "2019-09-18T00:00:00",
                    "2019-09-19T00:00:00",
                    "2019-09-23T00:00:00",
                    "2019-09-25T00:00:00",
                    "2019-09-26T00:00:00",
                    "2019-09-29T00:00:00",
                    "2019-10-03T00:00:00",
                    "2019-10-07T00:00:00",
                    "2019-10-10T00:00:00",
                    "2019-10-14T00:00:00",
                    "2019-10-15T00:00:00",
                    "2019-10-17T00:00:00",
                    "2019-10-21T00:00:00",
                    "2019-10-22T00:00:00",
                    "2019-10-24T00:00:00",
                    "2019-10-28T00:00:00",
                    "2019-10-30T00:00:00",
                    "2019-10-31T00:00:00",
                    "2019-11-04T00:00:00",
                    "2019-11-05T00:00:00",
                    "2019-11-07T00:00:00",
                    "2019-11-08T00:00:00",
                    "2019-11-11T00:00:00",
                    "2019-11-14T00:00:00",
                    "2019-11-18T00:00:00",
                    "2019-11-21T00:00:00",
                    "2019-11-22T00:00:00",
                    "2019-11-25T00:00:00",
                    "2019-11-29T00:00:00",
                    "2019-12-02T00:00:00",
                    "2019-12-05T00:00:00",
                    "2019-12-09T00:00:00",
                    "2019-12-10T00:00:00",
                    "2019-12-11T00:00:00",
                    "2019-12-12T00:00:00",
                    "2019-12-13T00:00:00",
                    "2019-12-16T00:00:00",
                    "2019-12-18T00:00:00",
                    "2019-12-19T00:00:00",
                    "2019-12-23T00:00:00",
                    "2019-12-26T00:00:00",
                    "2019-12-27T00:00:00",
                    "2019-12-30T00:00:00",
                    "2019-12-31T00:00:00",
                    "2020-01-02T00:00:00",
                    "2020-01-03T00:00:00",
                    "2020-01-06T00:00:00",
                    "2020-01-07T00:00:00",
                    "2020-01-09T00:00:00",
                    "2020-01-13T00:00:00",
                    "2020-01-16T00:00:00",
                    "2020-01-20T00:00:00",
                    "2020-01-21T00:00:00",
                    "2020-01-23T00:00:00",
                    "2020-01-27T00:00:00",
                    "2020-01-29T00:00:00",
                    "2020-01-30T00:00:00",
                    "2020-02-03T00:00:00",
                    "2020-02-04T00:00:00",
                    "2020-02-06T00:00:00",
                    "2020-02-07T00:00:00",
                    "2020-02-10T00:00:00",
                    "2020-02-12T00:00:00",
                    "2020-02-13T00:00:00",
                    "2020-02-17T00:00:00",
                    "2020-02-19T00:00:00",
                    "2020-02-20T00:00:00",
                    "2020-02-24T00:00:00",
                    "2020-02-25T00:00:00",
                    "2020-02-26T00:00:00",
                    "2020-02-27T00:00:00",
                    "2020-03-02T00:00:00",
                    "2020-03-03T00:00:00",
                    "2020-03-04T00:00:00",
                    "2020-03-05T00:00:00",
                    "2020-03-06T00:00:00",
                    "2020-03-09T00:00:00",
                    "2020-03-10T00:00:00",
                    "2020-03-12T00:00:00",
                    "2020-03-16T00:00:00",
                    "2020-03-17T00:00:00",
                    "2020-03-19T00:00:00",
                    "2020-03-26T00:00:00",
                    "2020-03-30T00:00:00",
                    "2020-04-02T00:00:00",
                    "2020-04-06T00:00:00",
                    "2020-04-09T00:00:00",
                    "2020-04-13T00:00:00",
                    "2020-04-16T00:00:00",
                    "2020-04-17T00:00:00",
                    "2020-04-20T00:00:00",
                    "2020-04-21T00:00:00",
                    "2020-04-22T00:00:00",
                    "2020-04-23T00:00:00",
                    "2020-04-24T00:00:00",
                    "2020-04-27T00:00:00",
                    "2020-04-30T00:00:00",
                    "2020-05-04T00:00:00",
                    "2020-05-07T00:00:00",
                    "2020-05-08T00:00:00",
                    "2020-05-11T00:00:00",
                    "2020-05-13T00:00:00",
                    "2020-05-14T00:00:00",
                    "2020-05-18T00:00:00",
                    "2020-05-19T00:00:00",
                    "2020-05-21T00:00:00",
                    "2020-05-27T00:00:00",
                    "2020-05-28T00:00:00",
                    "2020-06-01T00:00:00",
                    "2020-06-02T00:00:00",
                    "2020-06-04T00:00:00",
                    "2020-06-08T00:00:00",
                    "2020-06-09T00:00:00",
                    "2020-06-11T00:00:00",
                    "2020-06-12T00:00:00"
                  ],
                  "xaxis": "x",
                  "y": [
                    -9658.325974626177,
                    75132.76864012216,
                    11126.058621829088,
                    92849.30643727402,
                    73866.30142754002,
                    88486.75212570318,
                    -10797.375996530753,
                    71258.51791122594,
                    102196.98886422471,
                    84034.53392302431,
                    115069.70883649024,
                    13351.404037506896,
                    83045.40845991946,
                    100965.7920038249,
                    839.4877993135341,
                    86495.40305187734,
                    101231.22850631425,
                    73546.12482181951,
                    104890.84179565453,
                    96001.68611418617,
                    25938.16698108291,
                    114019.06609630016,
                    3550.9739803340863,
                    96635.37156498941,
                    130826.05092436976,
                    118050.1196442534,
                    130478.60998316618,
                    19684.77601894101,
                    104432.99448123806,
                    127494.93722134572,
                    90536.44235424239,
                    19095.756066626334,
                    111611.70811875707,
                    -698.2386584638782,
                    5876.318593246403,
                    96440.06152429037,
                    105936.41859933143,
                    88052.0091275935,
                    96477.74589497414,
                    103520.59562861113,
                    98254.61047681738,
                    96664.94436974467,
                    97269.540026717,
                    4975.729162559199,
                    94042.38793053916,
                    21813.089979336186,
                    121810.0444923048,
                    -1055.7474912742655,
                    -4904.812519540404,
                    89542.90956747415,
                    15450.797236367016,
                    92186.90202492688,
                    9547.613231006659,
                    132641.43177849575,
                    111193.31061721181,
                    15819.392768701375,
                    127001.71101607889,
                    23267.0031706183,
                    107257.50453743029,
                    153024.9827700833,
                    59818.70318081313,
                    30215.285706913608,
                    132168.86299125076,
                    98544.9635652086,
                    10464.84420586416,
                    6061.148384270158,
                    123702.93649841376,
                    21531.261182854458,
                    113441.81378362858,
                    1806.0263840752837,
                    103045.47396490573,
                    88332.14908093592,
                    7188.8688777625985,
                    112688.61594918878,
                    19716.754393933144,
                    123780.49629750501,
                    16025.997258122743,
                    121171.05489984347,
                    63885.975452274484,
                    -8776.924546925153,
                    96271.66117294399,
                    15344.001908809954,
                    82372.5760464778,
                    616.9629040347962,
                    101585.10614382486,
                    89660.65690001304,
                    108098.39414332775,
                    12609.893591547869,
                    91903.92720170299,
                    26403.082567879508,
                    111819.73234549818,
                    43693.73086773069,
                    107933.0202080473,
                    25368.869405612546,
                    -1617.9615278045812,
                    98928.01282869958,
                    15132.374555766944,
                    81138.37864851576,
                    2477.6227191943526,
                    105227.3106177103,
                    84223.55788961606,
                    96907.75139487872,
                    87632.11787906935,
                    102524.16794418488,
                    98402.76259606537,
                    20784.67138032307,
                    116776.95271548483,
                    59491.873267915835,
                    9217.247128191639,
                    110917.19074825027,
                    96012.12241732971,
                    -913.1287241984606,
                    110123.62635471922,
                    88048.26047875462,
                    -6990.315156698269,
                    96321.86875315337,
                    121005.6952151944,
                    10569.982882478267,
                    104872.84116092313,
                    111845.70178236718,
                    8846.605134242069,
                    114122.51525485601,
                    98615.69263146729,
                    -4561.859704475042,
                    99835.75811480268,
                    94175.09491382012,
                    -13520.572164121731,
                    95078.64744389606,
                    95860.74789075929,
                    -10003.99894807181,
                    110658.74361950578,
                    101023.60786486966,
                    3653.390914898758,
                    1468.6335696112517,
                    103871.78913371771,
                    101156.42781240513,
                    102271.48807245225,
                    112459.48874052789,
                    5889.297318511245,
                    107563.7978384702,
                    114210.78610465227,
                    2637.9194341902776,
                    106059.73894233286,
                    126927.91866986592,
                    116473.68305832843,
                    19346.00468267654,
                    18084.488938801107,
                    116667.87748684234,
                    113029.4059513913,
                    12411.922101003449,
                    115996.21934936068,
                    108172.52983435235,
                    113795.00713025701,
                    43207.93499624072,
                    82648.29265636537,
                    125621.92392308911,
                    -9405.405585859784,
                    69977.54017588183,
                    9667.50974657177,
                    96012.70294883876,
                    -1759.316581567932,
                    72613.16225679617,
                    95717.53777469536,
                    72225.08522485271,
                    20513.466070794344,
                    6143.780557148389,
                    789.011840350819,
                    78421.96587378612,
                    106447.26416771195,
                    86174.31310765861,
                    100368.68134372454,
                    -321.352698650375,
                    83236.37381985625,
                    104505.29133131582,
                    4582.5882358457,
                    -3273.323272704355,
                    73433.39758772404,
                    106651.60129307574,
                    89791.16671463288,
                    124541.33962996291,
                    205.49676875550097,
                    92814.20361156279,
                    113606.55191561954,
                    29591.195314000164,
                    115191.81684089317,
                    133134.28020900878,
                    31667.09097757415,
                    27834.141541526886,
                    105950.40212229743,
                    137547.37441613042,
                    7553.6865466837,
                    84325.9229546891,
                    120903.99475614737,
                    5985.94786185262,
                    74068.83456604338,
                    118573.64464460494,
                    11182.715390976462,
                    101414.0382095805,
                    13114.692967930438,
                    99862.23338134268,
                    98795.59139290995,
                    106999.75323057285,
                    15616.67516634258,
                    98032.51732437538,
                    23894.72602755671,
                    96279.65104011542,
                    10478.787325192681,
                    6961.8118931389245,
                    86015.44379495252,
                    106920.14472091322,
                    39606.15787672674,
                    84788.40753189467,
                    93470.25340137386,
                    10499.436830294631,
                    11080.589424393364,
                    101271.09522448934,
                    119899.67285826139,
                    30239.859671711223,
                    122736.68841587473,
                    105159.28437627607,
                    120003.5035235965,
                    56774.05148543577,
                    55799.89833468587,
                    119858.04747050063,
                    106424.68290955543,
                    13502.279916507148,
                    115018.3604416877,
                    124101.90294480973,
                    104221.97225966264,
                    105079.63715715554,
                    9723.639686196248,
                    94045.26253453696,
                    133895.00814820756,
                    12012.289489959914,
                    95930.74146336097,
                    87864.37925337286,
                    77835.98293377101,
                    23529.95426060244,
                    97075.9348562463,
                    6911.600769898854,
                    94473.45474587851,
                    19054.317422787248,
                    104333.2015009086,
                    6982.449726979876,
                    97702.55064177589,
                    97515.00708061726,
                    112113.47738245048,
                    112763.62365512214,
                    97626.37291163717,
                    101826.86747113348,
                    9483.428889164248,
                    101189.23357686304,
                    109132.76961327092,
                    89158.10304275331,
                    120415.01060333094,
                    6259.585341205619,
                    -641.5359934338815,
                    88480.14362421383,
                    108286.39225217253,
                    12064.61736120604,
                    19762.106756301295,
                    104466.13719473469,
                    35667.21514701151,
                    20127.063371997945,
                    114612.28323927445,
                    122255.6232254512,
                    9996.687519607834,
                    109060.43942479377,
                    114648.99772634853,
                    4430.015448269474,
                    107034.30554929975,
                    113917.733548774,
                    10390.90950220722,
                    91404.85624304955,
                    55046.41419198962,
                    115144.59702121034,
                    118458.48400011502,
                    96783.01867530144,
                    115732.38358621032,
                    5027.564901655731,
                    89708.66010976551,
                    106021.05270784117,
                    -4098.742483293327,
                    98579.2337874103,
                    105854.2113119445,
                    3535.0649727395553,
                    93015.8197443374,
                    119059.41283400253,
                    15043.238739483633,
                    101248.90282441345,
                    16242.864776120758,
                    127606.27132365476,
                    105528.76866639827,
                    117306.399025737,
                    98368.97599435656,
                    27440.72410428092,
                    132152.97809657938,
                    80563.0239600856,
                    129449.91615923338,
                    111492.30916382432,
                    129970.91689773761,
                    21854.35776206337,
                    16433.06993714818,
                    107284.39055718789,
                    36138.21082488133,
                    126881.30164651867,
                    13462.869326184542,
                    109543.34794481877,
                    131636.20523871275,
                    99834.37317469149,
                    55364.71970954843,
                    131241.45394066983,
                    36143.021163882964,
                    74131.21070258628,
                    10665.02313660186,
                    98623.54877042238,
                    4627.224926413761,
                    81433.70305863909,
                    98798.47701194444,
                    71016.15587747173,
                    104392.41017946017,
                    10581.4703475365,
                    77325.13898678253,
                    102988.64247813245,
                    15393.116709195712,
                    86866.85275645705,
                    104522.35187042899,
                    4583.904144498331,
                    85836.12500438558,
                    15637.95295599737,
                    108132.54784690052,
                    2219.4736282469726,
                    82791.94726781613,
                    110630.15417366901,
                    5625.94212730938,
                    92059.50274966643,
                    130201.26149426562,
                    23065.19214345796,
                    4955.860048552021,
                    82029.71872345111,
                    118571.56696414127,
                    7966.359499759534,
                    20632.816140297917,
                    82628.26732261917,
                    17700.578972286366,
                    97517.99330968874,
                    18182.942216904914,
                    74376.41419376538,
                    92731.59543522478,
                    21472.147323922476,
                    57744.8962325074,
                    30471.351631930444,
                    39276.47985350621,
                    36156.19858903905,
                    27507.114950524618,
                    30845.194274977952,
                    40950.047180835034,
                    28303.922371784767,
                    -6274.971355717437,
                    23506.179965665597,
                    -15914.423312044724,
                    -19810.221221760712,
                    17746.40326206837,
                    -6275.0269790418415,
                    28097.83648853229,
                    40761.14212014185,
                    20097.17567681526,
                    22299.275499133943,
                    -10918.987587544234,
                    44105.04076883396,
                    -5176.683390163766,
                    49099.337819111766,
                    41130.45961616426,
                    -4963.9606394231005,
                    42106.22625111181,
                    12324.895746008267,
                    60880.306637846006,
                    39627.53585805297,
                    -6353.6515466417095,
                    50931.665153211376,
                    55797.54722897364,
                    6517.58113829762,
                    63069.05300076909,
                    -1805.5052715436207
                  ],
                  "yaxis": "y"
                }
              ],
              "layout": {
                "legend": {
                  "title": {
                    "text": "variable"
                  },
                  "tracegroupgap": 0
                },
                "margin": {
                  "t": 60
                },
                "shapes": [
                  {
                    "fillcolor": "grey",
                    "line": {
                      "width": 0
                    },
                    "opacity": 0.25,
                    "type": "rect",
                    "x0": "2018-01-03T00:00:00",
                    "x1": "2020-06-12T00:00:00",
                    "xref": "x",
                    "y0": 0,
                    "y1": 1,
                    "yref": "y domain"
                  }
                ],
                "template": {
                  "data": {
                    "bar": [
                      {
                        "error_x": {
                          "color": "#f2f5fa"
                        },
                        "error_y": {
                          "color": "#f2f5fa"
                        },
                        "marker": {
                          "line": {
                            "color": "rgb(17,17,17)",
                            "width": 0.5
                          },
                          "pattern": {
                            "fillmode": "overlay",
                            "size": 10,
                            "solidity": 0.2
                          }
                        },
                        "type": "bar"
                      }
                    ],
                    "barpolar": [
                      {
                        "marker": {
                          "line": {
                            "color": "rgb(17,17,17)",
                            "width": 0.5
                          },
                          "pattern": {
                            "fillmode": "overlay",
                            "size": 10,
                            "solidity": 0.2
                          }
                        },
                        "type": "barpolar"
                      }
                    ],
                    "carpet": [
                      {
                        "aaxis": {
                          "endlinecolor": "#A2B1C6",
                          "gridcolor": "#506784",
                          "linecolor": "#506784",
                          "minorgridcolor": "#506784",
                          "startlinecolor": "#A2B1C6"
                        },
                        "baxis": {
                          "endlinecolor": "#A2B1C6",
                          "gridcolor": "#506784",
                          "linecolor": "#506784",
                          "minorgridcolor": "#506784",
                          "startlinecolor": "#A2B1C6"
                        },
                        "type": "carpet"
                      }
                    ],
                    "choropleth": [
                      {
                        "colorbar": {
                          "outlinewidth": 0,
                          "ticks": ""
                        },
                        "type": "choropleth"
                      }
                    ],
                    "contour": [
                      {
                        "colorbar": {
                          "outlinewidth": 0,
                          "ticks": ""
                        },
                        "colorscale": [
                          [
                            0,
                            "#0d0887"
                          ],
                          [
                            0.1111111111111111,
                            "#46039f"
                          ],
                          [
                            0.2222222222222222,
                            "#7201a8"
                          ],
                          [
                            0.3333333333333333,
                            "#9c179e"
                          ],
                          [
                            0.4444444444444444,
                            "#bd3786"
                          ],
                          [
                            0.5555555555555556,
                            "#d8576b"
                          ],
                          [
                            0.6666666666666666,
                            "#ed7953"
                          ],
                          [
                            0.7777777777777778,
                            "#fb9f3a"
                          ],
                          [
                            0.8888888888888888,
                            "#fdca26"
                          ],
                          [
                            1,
                            "#f0f921"
                          ]
                        ],
                        "type": "contour"
                      }
                    ],
                    "contourcarpet": [
                      {
                        "colorbar": {
                          "outlinewidth": 0,
                          "ticks": ""
                        },
                        "type": "contourcarpet"
                      }
                    ],
                    "heatmap": [
                      {
                        "colorbar": {
                          "outlinewidth": 0,
                          "ticks": ""
                        },
                        "colorscale": [
                          [
                            0,
                            "#0d0887"
                          ],
                          [
                            0.1111111111111111,
                            "#46039f"
                          ],
                          [
                            0.2222222222222222,
                            "#7201a8"
                          ],
                          [
                            0.3333333333333333,
                            "#9c179e"
                          ],
                          [
                            0.4444444444444444,
                            "#bd3786"
                          ],
                          [
                            0.5555555555555556,
                            "#d8576b"
                          ],
                          [
                            0.6666666666666666,
                            "#ed7953"
                          ],
                          [
                            0.7777777777777778,
                            "#fb9f3a"
                          ],
                          [
                            0.8888888888888888,
                            "#fdca26"
                          ],
                          [
                            1,
                            "#f0f921"
                          ]
                        ],
                        "type": "heatmap"
                      }
                    ],
                    "heatmapgl": [
                      {
                        "colorbar": {
                          "outlinewidth": 0,
                          "ticks": ""
                        },
                        "colorscale": [
                          [
                            0,
                            "#0d0887"
                          ],
                          [
                            0.1111111111111111,
                            "#46039f"
                          ],
                          [
                            0.2222222222222222,
                            "#7201a8"
                          ],
                          [
                            0.3333333333333333,
                            "#9c179e"
                          ],
                          [
                            0.4444444444444444,
                            "#bd3786"
                          ],
                          [
                            0.5555555555555556,
                            "#d8576b"
                          ],
                          [
                            0.6666666666666666,
                            "#ed7953"
                          ],
                          [
                            0.7777777777777778,
                            "#fb9f3a"
                          ],
                          [
                            0.8888888888888888,
                            "#fdca26"
                          ],
                          [
                            1,
                            "#f0f921"
                          ]
                        ],
                        "type": "heatmapgl"
                      }
                    ],
                    "histogram": [
                      {
                        "marker": {
                          "pattern": {
                            "fillmode": "overlay",
                            "size": 10,
                            "solidity": 0.2
                          }
                        },
                        "type": "histogram"
                      }
                    ],
                    "histogram2d": [
                      {
                        "colorbar": {
                          "outlinewidth": 0,
                          "ticks": ""
                        },
                        "colorscale": [
                          [
                            0,
                            "#0d0887"
                          ],
                          [
                            0.1111111111111111,
                            "#46039f"
                          ],
                          [
                            0.2222222222222222,
                            "#7201a8"
                          ],
                          [
                            0.3333333333333333,
                            "#9c179e"
                          ],
                          [
                            0.4444444444444444,
                            "#bd3786"
                          ],
                          [
                            0.5555555555555556,
                            "#d8576b"
                          ],
                          [
                            0.6666666666666666,
                            "#ed7953"
                          ],
                          [
                            0.7777777777777778,
                            "#fb9f3a"
                          ],
                          [
                            0.8888888888888888,
                            "#fdca26"
                          ],
                          [
                            1,
                            "#f0f921"
                          ]
                        ],
                        "type": "histogram2d"
                      }
                    ],
                    "histogram2dcontour": [
                      {
                        "colorbar": {
                          "outlinewidth": 0,
                          "ticks": ""
                        },
                        "colorscale": [
                          [
                            0,
                            "#0d0887"
                          ],
                          [
                            0.1111111111111111,
                            "#46039f"
                          ],
                          [
                            0.2222222222222222,
                            "#7201a8"
                          ],
                          [
                            0.3333333333333333,
                            "#9c179e"
                          ],
                          [
                            0.4444444444444444,
                            "#bd3786"
                          ],
                          [
                            0.5555555555555556,
                            "#d8576b"
                          ],
                          [
                            0.6666666666666666,
                            "#ed7953"
                          ],
                          [
                            0.7777777777777778,
                            "#fb9f3a"
                          ],
                          [
                            0.8888888888888888,
                            "#fdca26"
                          ],
                          [
                            1,
                            "#f0f921"
                          ]
                        ],
                        "type": "histogram2dcontour"
                      }
                    ],
                    "mesh3d": [
                      {
                        "colorbar": {
                          "outlinewidth": 0,
                          "ticks": ""
                        },
                        "type": "mesh3d"
                      }
                    ],
                    "parcoords": [
                      {
                        "line": {
                          "colorbar": {
                            "outlinewidth": 0,
                            "ticks": ""
                          }
                        },
                        "type": "parcoords"
                      }
                    ],
                    "pie": [
                      {
                        "automargin": true,
                        "type": "pie"
                      }
                    ],
                    "scatter": [
                      {
                        "marker": {
                          "line": {
                            "color": "#283442"
                          }
                        },
                        "type": "scatter"
                      }
                    ],
                    "scatter3d": [
                      {
                        "line": {
                          "colorbar": {
                            "outlinewidth": 0,
                            "ticks": ""
                          }
                        },
                        "marker": {
                          "colorbar": {
                            "outlinewidth": 0,
                            "ticks": ""
                          }
                        },
                        "type": "scatter3d"
                      }
                    ],
                    "scattercarpet": [
                      {
                        "marker": {
                          "colorbar": {
                            "outlinewidth": 0,
                            "ticks": ""
                          }
                        },
                        "type": "scattercarpet"
                      }
                    ],
                    "scattergeo": [
                      {
                        "marker": {
                          "colorbar": {
                            "outlinewidth": 0,
                            "ticks": ""
                          }
                        },
                        "type": "scattergeo"
                      }
                    ],
                    "scattergl": [
                      {
                        "marker": {
                          "line": {
                            "color": "#283442"
                          }
                        },
                        "type": "scattergl"
                      }
                    ],
                    "scattermapbox": [
                      {
                        "marker": {
                          "colorbar": {
                            "outlinewidth": 0,
                            "ticks": ""
                          }
                        },
                        "type": "scattermapbox"
                      }
                    ],
                    "scatterpolar": [
                      {
                        "marker": {
                          "colorbar": {
                            "outlinewidth": 0,
                            "ticks": ""
                          }
                        },
                        "type": "scatterpolar"
                      }
                    ],
                    "scatterpolargl": [
                      {
                        "marker": {
                          "colorbar": {
                            "outlinewidth": 0,
                            "ticks": ""
                          }
                        },
                        "type": "scatterpolargl"
                      }
                    ],
                    "scatterternary": [
                      {
                        "marker": {
                          "colorbar": {
                            "outlinewidth": 0,
                            "ticks": ""
                          }
                        },
                        "type": "scatterternary"
                      }
                    ],
                    "surface": [
                      {
                        "colorbar": {
                          "outlinewidth": 0,
                          "ticks": ""
                        },
                        "colorscale": [
                          [
                            0,
                            "#0d0887"
                          ],
                          [
                            0.1111111111111111,
                            "#46039f"
                          ],
                          [
                            0.2222222222222222,
                            "#7201a8"
                          ],
                          [
                            0.3333333333333333,
                            "#9c179e"
                          ],
                          [
                            0.4444444444444444,
                            "#bd3786"
                          ],
                          [
                            0.5555555555555556,
                            "#d8576b"
                          ],
                          [
                            0.6666666666666666,
                            "#ed7953"
                          ],
                          [
                            0.7777777777777778,
                            "#fb9f3a"
                          ],
                          [
                            0.8888888888888888,
                            "#fdca26"
                          ],
                          [
                            1,
                            "#f0f921"
                          ]
                        ],
                        "type": "surface"
                      }
                    ],
                    "table": [
                      {
                        "cells": {
                          "fill": {
                            "color": "#506784"
                          },
                          "line": {
                            "color": "rgb(17,17,17)"
                          }
                        },
                        "header": {
                          "fill": {
                            "color": "#2a3f5f"
                          },
                          "line": {
                            "color": "rgb(17,17,17)"
                          }
                        },
                        "type": "table"
                      }
                    ]
                  },
                  "layout": {
                    "annotationdefaults": {
                      "arrowcolor": "#f2f5fa",
                      "arrowhead": 0,
                      "arrowwidth": 1
                    },
                    "autotypenumbers": "strict",
                    "coloraxis": {
                      "colorbar": {
                        "outlinewidth": 0,
                        "ticks": ""
                      }
                    },
                    "colorscale": {
                      "diverging": [
                        [
                          0,
                          "#8e0152"
                        ],
                        [
                          0.1,
                          "#c51b7d"
                        ],
                        [
                          0.2,
                          "#de77ae"
                        ],
                        [
                          0.3,
                          "#f1b6da"
                        ],
                        [
                          0.4,
                          "#fde0ef"
                        ],
                        [
                          0.5,
                          "#f7f7f7"
                        ],
                        [
                          0.6,
                          "#e6f5d0"
                        ],
                        [
                          0.7,
                          "#b8e186"
                        ],
                        [
                          0.8,
                          "#7fbc41"
                        ],
                        [
                          0.9,
                          "#4d9221"
                        ],
                        [
                          1,
                          "#276419"
                        ]
                      ],
                      "sequential": [
                        [
                          0,
                          "#0d0887"
                        ],
                        [
                          0.1111111111111111,
                          "#46039f"
                        ],
                        [
                          0.2222222222222222,
                          "#7201a8"
                        ],
                        [
                          0.3333333333333333,
                          "#9c179e"
                        ],
                        [
                          0.4444444444444444,
                          "#bd3786"
                        ],
                        [
                          0.5555555555555556,
                          "#d8576b"
                        ],
                        [
                          0.6666666666666666,
                          "#ed7953"
                        ],
                        [
                          0.7777777777777778,
                          "#fb9f3a"
                        ],
                        [
                          0.8888888888888888,
                          "#fdca26"
                        ],
                        [
                          1,
                          "#f0f921"
                        ]
                      ],
                      "sequentialminus": [
                        [
                          0,
                          "#0d0887"
                        ],
                        [
                          0.1111111111111111,
                          "#46039f"
                        ],
                        [
                          0.2222222222222222,
                          "#7201a8"
                        ],
                        [
                          0.3333333333333333,
                          "#9c179e"
                        ],
                        [
                          0.4444444444444444,
                          "#bd3786"
                        ],
                        [
                          0.5555555555555556,
                          "#d8576b"
                        ],
                        [
                          0.6666666666666666,
                          "#ed7953"
                        ],
                        [
                          0.7777777777777778,
                          "#fb9f3a"
                        ],
                        [
                          0.8888888888888888,
                          "#fdca26"
                        ],
                        [
                          1,
                          "#f0f921"
                        ]
                      ]
                    },
                    "colorway": [
                      "#636efa",
                      "#EF553B",
                      "#00cc96",
                      "#ab63fa",
                      "#FFA15A",
                      "#19d3f3",
                      "#FF6692",
                      "#B6E880",
                      "#FF97FF",
                      "#FECB52"
                    ],
                    "font": {
                      "color": "#f2f5fa"
                    },
                    "geo": {
                      "bgcolor": "rgb(17,17,17)",
                      "lakecolor": "rgb(17,17,17)",
                      "landcolor": "rgb(17,17,17)",
                      "showlakes": true,
                      "showland": true,
                      "subunitcolor": "#506784"
                    },
                    "hoverlabel": {
                      "align": "left"
                    },
                    "hovermode": "closest",
                    "mapbox": {
                      "style": "dark"
                    },
                    "paper_bgcolor": "rgb(17,17,17)",
                    "plot_bgcolor": "rgb(17,17,17)",
                    "polar": {
                      "angularaxis": {
                        "gridcolor": "#506784",
                        "linecolor": "#506784",
                        "ticks": ""
                      },
                      "bgcolor": "rgb(17,17,17)",
                      "radialaxis": {
                        "gridcolor": "#506784",
                        "linecolor": "#506784",
                        "ticks": ""
                      }
                    },
                    "scene": {
                      "xaxis": {
                        "backgroundcolor": "rgb(17,17,17)",
                        "gridcolor": "#506784",
                        "gridwidth": 2,
                        "linecolor": "#506784",
                        "showbackground": true,
                        "ticks": "",
                        "zerolinecolor": "#C8D4E3"
                      },
                      "yaxis": {
                        "backgroundcolor": "rgb(17,17,17)",
                        "gridcolor": "#506784",
                        "gridwidth": 2,
                        "linecolor": "#506784",
                        "showbackground": true,
                        "ticks": "",
                        "zerolinecolor": "#C8D4E3"
                      },
                      "zaxis": {
                        "backgroundcolor": "rgb(17,17,17)",
                        "gridcolor": "#506784",
                        "gridwidth": 2,
                        "linecolor": "#506784",
                        "showbackground": true,
                        "ticks": "",
                        "zerolinecolor": "#C8D4E3"
                      }
                    },
                    "shapedefaults": {
                      "line": {
                        "color": "#f2f5fa"
                      }
                    },
                    "sliderdefaults": {
                      "bgcolor": "#C8D4E3",
                      "bordercolor": "rgb(17,17,17)",
                      "borderwidth": 1,
                      "tickwidth": 0
                    },
                    "ternary": {
                      "aaxis": {
                        "gridcolor": "#506784",
                        "linecolor": "#506784",
                        "ticks": ""
                      },
                      "baxis": {
                        "gridcolor": "#506784",
                        "linecolor": "#506784",
                        "ticks": ""
                      },
                      "bgcolor": "rgb(17,17,17)",
                      "caxis": {
                        "gridcolor": "#506784",
                        "linecolor": "#506784",
                        "ticks": ""
                      }
                    },
                    "title": {
                      "x": 0.05
                    },
                    "updatemenudefaults": {
                      "bgcolor": "#506784",
                      "borderwidth": 0
                    },
                    "xaxis": {
                      "automargin": true,
                      "gridcolor": "#283442",
                      "linecolor": "#506784",
                      "ticks": "",
                      "title": {
                        "standoff": 15
                      },
                      "zerolinecolor": "#283442",
                      "zerolinewidth": 2
                    },
                    "yaxis": {
                      "automargin": true,
                      "gridcolor": "#283442",
                      "linecolor": "#506784",
                      "ticks": "",
                      "title": {
                        "standoff": 15
                      },
                      "zerolinecolor": "#283442",
                      "zerolinewidth": 2
                    }
                  }
                },
                "xaxis": {
                  "anchor": "y",
                  "domain": [
                    0,
                    1
                  ],
                  "title": {
                    "text": "x"
                  }
                },
                "yaxis": {
                  "anchor": "x",
                  "domain": [
                    0,
                    1
                  ],
                  "title": {
                    "text": "value"
                  }
                }
              }
            }
          },
          "metadata": {},
          "output_type": "display_data"
        }
      ],
      "source": [
        "import plotly.express as px\n",
        "# line plot\n",
        "fig = px.line(predictions, x=train.index, y=[\"sale_dollars\", \"prediction_label\"], template = 'plotly_dark')\n",
        "fig.add_vrect(x0=min(train.index), x1=max(train.index), fillcolor=\"grey\", opacity=0.25, line_width=0)\n",
        "fig.show()"
      ]
    },
    {
      "cell_type": "markdown",
      "metadata": {
        "id": "IVBVTZn6e13X"
      },
      "source": [
        "##### Evaluación del modelo"
      ]
    },
    {
      "cell_type": "code",
      "execution_count": 17,
      "metadata": {
        "id": "TiCveOOOe13X",
        "scrolled": true
      },
      "outputs": [
        {
          "data": {
            "text/html": [
              "<style type=\"text/css\">\n",
              "</style>\n",
              "<table id=\"T_cdaf2\">\n",
              "  <thead>\n",
              "    <tr>\n",
              "      <th class=\"blank level0\" >&nbsp;</th>\n",
              "      <th id=\"T_cdaf2_level0_col0\" class=\"col_heading level0 col0\" >Model</th>\n",
              "      <th id=\"T_cdaf2_level0_col1\" class=\"col_heading level0 col1\" >MAE</th>\n",
              "      <th id=\"T_cdaf2_level0_col2\" class=\"col_heading level0 col2\" >MSE</th>\n",
              "      <th id=\"T_cdaf2_level0_col3\" class=\"col_heading level0 col3\" >RMSE</th>\n",
              "      <th id=\"T_cdaf2_level0_col4\" class=\"col_heading level0 col4\" >R2</th>\n",
              "      <th id=\"T_cdaf2_level0_col5\" class=\"col_heading level0 col5\" >RMSLE</th>\n",
              "      <th id=\"T_cdaf2_level0_col6\" class=\"col_heading level0 col6\" >MAPE</th>\n",
              "    </tr>\n",
              "  </thead>\n",
              "  <tbody>\n",
              "    <tr>\n",
              "      <th id=\"T_cdaf2_level0_row0\" class=\"row_heading level0 row0\" >0</th>\n",
              "      <td id=\"T_cdaf2_row0_col0\" class=\"data row0 col0\" >Light Gradient Boosting Machine</td>\n",
              "      <td id=\"T_cdaf2_row0_col1\" class=\"data row0 col1\" >27170.1413</td>\n",
              "      <td id=\"T_cdaf2_row0_col2\" class=\"data row0 col2\" >1555748154.2229</td>\n",
              "      <td id=\"T_cdaf2_row0_col3\" class=\"data row0 col3\" >39442.9734</td>\n",
              "      <td id=\"T_cdaf2_row0_col4\" class=\"data row0 col4\" >0.3079</td>\n",
              "      <td id=\"T_cdaf2_row0_col5\" class=\"data row0 col5\" >1.1757</td>\n",
              "      <td id=\"T_cdaf2_row0_col6\" class=\"data row0 col6\" >2.0790</td>\n",
              "    </tr>\n",
              "  </tbody>\n",
              "</table>\n"
            ],
            "text/plain": [
              "<pandas.io.formats.style.Styler at 0x173a6d43110>"
            ]
          },
          "metadata": {},
          "output_type": "display_data"
        },
        {
          "name": "stdout",
          "output_type": "stream",
          "text": [
            "RMSE: 39442.97362331287\n",
            "MAE: 27170.14108383913\n"
          ]
        }
      ],
      "source": [
        "# Evalua el modelo sobre los datos de test\n",
        "predictions = predict_model(best, data = test)\n",
        "\n",
        "\n",
        "## Calcula el RMSE y MAE\n",
        "print('RMSE:', np.sqrt(mean_squared_error(test['sale_dollars'], predictions['prediction_label'])))\n",
        "print('MAE:', mean_absolute_error(test['sale_dollars'], predictions['prediction_label']))\n"
      ]
    },
    {
      "cell_type": "code",
      "execution_count": 18,
      "metadata": {},
      "outputs": [
        {
          "data": {
            "text/plain": [
              "'\\nAutor: Miguel Angel Murillo Frias\\nFecha: 29 de febrero de 2024\\n'"
            ]
          },
          "execution_count": 18,
          "metadata": {},
          "output_type": "execute_result"
        }
      ],
      "source": [
        "\"\"\"\n",
        "Autor: Miguel Angel Murillo Frias\n",
        "Fecha: 29 de febrero de 2024\n",
        "\"\"\""
      ]
    }
  ],
  "metadata": {
    "colab": {
      "provenance": []
    },
    "kernelspec": {
      "display_name": "Python 3",
      "language": "python",
      "name": "python3"
    },
    "language_info": {
      "codemirror_mode": {
        "name": "ipython",
        "version": 3
      },
      "file_extension": ".py",
      "mimetype": "text/x-python",
      "name": "python",
      "nbconvert_exporter": "python",
      "pygments_lexer": "ipython3",
      "version": "3.11.8"
    }
  },
  "nbformat": 4,
  "nbformat_minor": 0
}
